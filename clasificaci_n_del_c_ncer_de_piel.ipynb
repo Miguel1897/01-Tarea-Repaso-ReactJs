{
  "metadata": {
    "kernelspec": {
      "language": "python",
      "display_name": "Python 3",
      "name": "python3"
    },
    "language_info": {
      "pygments_lexer": "ipython3",
      "nbconvert_exporter": "python",
      "version": "3.6.4",
      "file_extension": ".py",
      "codemirror_mode": {
        "name": "ipython",
        "version": 3
      },
      "name": "python",
      "mimetype": "text/x-python"
    },
    "colab": {
      "provenance": [],
      "include_colab_link": true
    }
  },
  "nbformat_minor": 0,
  "nbformat": 4,
  "cells": [
    {
      "cell_type": "markdown",
      "metadata": {
        "id": "view-in-github",
        "colab_type": "text"
      },
      "source": [
        "<a href=\"https://colab.research.google.com/github/Miguel1897/01-Tarea-Repaso-ReactJs/blob/master/clasificaci_n_del_c_ncer_de_piel.ipynb\" target=\"_parent\"><img src=\"https://colab.research.google.com/assets/colab-badge.svg\" alt=\"Open In Colab\"/></a>"
      ]
    },
    {
      "source": [
        "# IMPORTANTE: EJECUTE ESTA CELDA PARA IMPORTAR TUS FUENTES DE DATOS DE KAGGLE,\n",
        "# ENTONCES SIÉNTETE LIBRE DE ELIMINAR ESTA CELDA.\n",
        "# NOTA: ESTE ENTORNO DEL CUADERNO DIFERENCIA DEL PYTHON DE KAGGLE\n",
        "# ENTORNO POR LO QUE PUEDE FALTAR BIBLIOTECAS UTILIZADAS POR SU\n",
        "# COMPUTADORA PORTÁTIL.\n",
        "import kagglehub\n",
        "kmader_skin_cancer_mnist_ham10000_path = kagglehub.dataset_download('kmader/skin-cancer-mnist-ham10000')\n",
        "\n",
        "print('Data source import complete.')\n"
      ],
      "metadata": {
        "id": "M2l8pujkBMqP",
        "outputId": "49014767-4bd9-4d33-86d1-fa623b3da95e",
        "colab": {
          "base_uri": "https://localhost:8080/"
        }
      },
      "cell_type": "code",
      "outputs": [
        {
          "output_type": "stream",
          "name": "stdout",
          "text": [
            "Data source import complete.\n"
          ]
        }
      ],
      "execution_count": null
    },
    {
      "cell_type": "markdown",
      "source": [
        "#Clasificación del Cáncer de Piel ⚕️🔍\n",
        "\n",
        "!\n",
        "![images.jpg](data:image/jpeg;base64,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)\n",
        "\n",
        "\n",
        "\n",
        "El cáncer de piel es un tipo de cáncer que afecta las células de la piel. Es la forma más común de cáncer en los Estados Unidos. Hay tres tipos principales de cáncer de piel: carcinoma de células basales, carcinoma de células escamosas y melanoma. El carcinoma de células basales y el carcinoma de células escamosas son los tipos más comunes y generalmente no ponen en peligro la vida, pero el melanoma puede ser agresivo y extenderse a otras partes del cuerpo.\n",
        "\n",
        "Los factores de riesgo del cáncer de piel incluyen exposición excesiva al sol, quemaduras solares, piel clara, antecedentes familiares y un sistema inmunológico debilitado. Los síntomas pueden incluir un lunar nuevo o cambiante, una llaga que no sana o un bulto o mancha que está creciendo.\n",
        "\n",
        "El diagnóstico generalmente se realiza mediante una biopsia de piel, en la que se extrae una muestra de piel y se examina con un microscopio. Las opciones de tratamiento dependen del tipo y estadio del cáncer y pueden incluir cirugía, radioterapia o quimioterapia. Las medidas de prevención incluyen evitar la exposición al sol, usar ropa protectora y usar un protector solar de amplio espectro con un SPF de al menos 30. La detección temprana es crucial para un tratamiento exitoso, por lo que es importante hacerse controles cutáneos periódicos y estar atento a cualquier cambio en su piel. .\n",
        "\n",
        "# Descripción general del conjunto de datos\n",
        "Conjunto de datos HAM10000 (\"Human Against Machine con 10000 imágenes de entrenamiento\"): una gran colección de imágenes dermatoscópicas de múltiples fuentes de lesiones pigmentadas\n",
        "\n",
        "Las imágenes dermatoscópicas se recogen de diferentes poblaciones, se adquieren y almacenan mediante diferentes modalidades. El conjunto de datos final consta de 10015 imágenes dermatoscópicas.\n",
        "\n",
        "Tiene 7 clases diferentes de cáncer de piel que se enumeran a continuación:\n",
        "- Nevos melanocíticos\n",
        "- Melanoma\n",
        "- Lesiones benignas similares a queratosis.\n",
        "- Carcinoma de células basales\n",
        "- Queratosis actínica\n",
        "- Lesiones vasculares\n",
        "- Dermatofibroma"
      ],
      "metadata": {
        "_uuid": "8f2839f25d086af736a60e9eeb907d3b93b6e0e5",
        "_cell_guid": "b1076dfc-b9ad-4769-8c92-a6c4dae69d19",
        "execution": {
          "iopub.status.busy": "2023-01-29T12:23:40.8302Z",
          "iopub.execute_input": "2023-01-29T12:23:40.831168Z",
          "iopub.status.idle": "2023-01-29T12:23:49.146301Z",
          "shell.execute_reply.started": "2023-01-29T12:23:40.831062Z",
          "shell.execute_reply": "2023-01-29T12:23:49.145285Z"
        },
        "id": "YMNm7cFmBMqS"
      }
    },
    {
      "cell_type": "markdown",
      "source": [
        "# Importando bibliotecas"
      ],
      "metadata": {
        "id": "s7mxhYymBMqW"
      }
    },
    {
      "cell_type": "code",
      "source": [
        "import numpy as np\n",
        "import pandas as pd\n",
        "import matplotlib.pyplot as plt\n",
        "import seaborn as sns\n",
        "import plotly.express as px\n",
        "import os\n",
        "import itertools\n",
        "\n",
        "from glob import glob\n",
        "from PIL import Image\n",
        "from sklearn.model_selection import train_test_split\n",
        "from sklearn.metrics import confusion_matrix, ConfusionMatrixDisplay\n",
        "from tensorflow.keras.utils import to_categorical, plot_model  # Corregido\n",
        "from tensorflow.keras.models import Sequential\n",
        "from tensorflow.keras.layers import Dense, Dropout, Flatten, Conv2D, MaxPool2D\n",
        "from tensorflow.keras import backend as K\n",
        "from tensorflow.keras.optimizers import Adam\n",
        "from tensorflow.keras.preprocessing.image import ImageDataGenerator\n",
        "from tensorflow.keras.callbacks import EarlyStopping, ReduceLROnPlateau\n",
        "\n"
      ],
      "metadata": {
        "execution": {
          "iopub.status.busy": "2023-01-31T17:43:33.881484Z",
          "iopub.execute_input": "2023-01-31T17:43:33.882357Z",
          "iopub.status.idle": "2023-01-31T17:43:37.87294Z",
          "shell.execute_reply.started": "2023-01-31T17:43:33.882274Z",
          "shell.execute_reply": "2023-01-31T17:43:37.871213Z"
        },
        "trusted": true,
        "id": "z31QRxXYBMqX"
      },
      "execution_count": null,
      "outputs": []
    },
    {
      "cell_type": "markdown",
      "source": [
        "# Leyendo los datos"
      ],
      "metadata": {
        "id": "QLOZAf_sBMqY"
      }
    },
    {
      "cell_type": "code",
      "source": [
        "df = pd.read_csv('../input/skin-cancer-mnist-ham10000/HAM10000_metadata.csv')\n",
        "df.head()"
      ],
      "metadata": {
        "execution": {
          "iopub.status.busy": "2023-01-31T17:43:37.881558Z",
          "iopub.execute_input": "2023-01-31T17:43:37.883307Z",
          "iopub.status.idle": "2023-01-31T17:43:37.937318Z",
          "shell.execute_reply.started": "2023-01-31T17:43:37.88324Z",
          "shell.execute_reply": "2023-01-31T17:43:37.935048Z"
        },
        "trusted": true,
        "id": "nhvfKZJdBMqZ",
        "outputId": "4b02314d-791b-4ef8-dcd8-f7251123b8a3",
        "colab": {
          "base_uri": "https://localhost:8080/",
          "height": 333
        }
      },
      "execution_count": null,
      "outputs": [
        {
          "output_type": "error",
          "ename": "FileNotFoundError",
          "evalue": "[Errno 2] No such file or directory: '../input/skin-cancer-mnist-ham10000/HAM10000_metadata.csv'",
          "traceback": [
            "\u001b[0;31m---------------------------------------------------------------------------\u001b[0m",
            "\u001b[0;31mFileNotFoundError\u001b[0m                         Traceback (most recent call last)",
            "\u001b[0;32m<ipython-input-7-00054fe9663b>\u001b[0m in \u001b[0;36m<cell line: 1>\u001b[0;34m()\u001b[0m\n\u001b[0;32m----> 1\u001b[0;31m \u001b[0mdf\u001b[0m \u001b[0;34m=\u001b[0m \u001b[0mpd\u001b[0m\u001b[0;34m.\u001b[0m\u001b[0mread_csv\u001b[0m\u001b[0;34m(\u001b[0m\u001b[0;34m'../input/skin-cancer-mnist-ham10000/HAM10000_metadata.csv'\u001b[0m\u001b[0;34m)\u001b[0m\u001b[0;34m\u001b[0m\u001b[0;34m\u001b[0m\u001b[0m\n\u001b[0m\u001b[1;32m      2\u001b[0m \u001b[0mdf\u001b[0m\u001b[0;34m.\u001b[0m\u001b[0mhead\u001b[0m\u001b[0;34m(\u001b[0m\u001b[0;34m)\u001b[0m\u001b[0;34m\u001b[0m\u001b[0;34m\u001b[0m\u001b[0m\n",
            "\u001b[0;32m/usr/local/lib/python3.10/dist-packages/pandas/io/parsers/readers.py\u001b[0m in \u001b[0;36mread_csv\u001b[0;34m(filepath_or_buffer, sep, delimiter, header, names, index_col, usecols, dtype, engine, converters, true_values, false_values, skipinitialspace, skiprows, skipfooter, nrows, na_values, keep_default_na, na_filter, verbose, skip_blank_lines, parse_dates, infer_datetime_format, keep_date_col, date_parser, date_format, dayfirst, cache_dates, iterator, chunksize, compression, thousands, decimal, lineterminator, quotechar, quoting, doublequote, escapechar, comment, encoding, encoding_errors, dialect, on_bad_lines, delim_whitespace, low_memory, memory_map, float_precision, storage_options, dtype_backend)\u001b[0m\n\u001b[1;32m   1024\u001b[0m     \u001b[0mkwds\u001b[0m\u001b[0;34m.\u001b[0m\u001b[0mupdate\u001b[0m\u001b[0;34m(\u001b[0m\u001b[0mkwds_defaults\u001b[0m\u001b[0;34m)\u001b[0m\u001b[0;34m\u001b[0m\u001b[0;34m\u001b[0m\u001b[0m\n\u001b[1;32m   1025\u001b[0m \u001b[0;34m\u001b[0m\u001b[0m\n\u001b[0;32m-> 1026\u001b[0;31m     \u001b[0;32mreturn\u001b[0m \u001b[0m_read\u001b[0m\u001b[0;34m(\u001b[0m\u001b[0mfilepath_or_buffer\u001b[0m\u001b[0;34m,\u001b[0m \u001b[0mkwds\u001b[0m\u001b[0;34m)\u001b[0m\u001b[0;34m\u001b[0m\u001b[0;34m\u001b[0m\u001b[0m\n\u001b[0m\u001b[1;32m   1027\u001b[0m \u001b[0;34m\u001b[0m\u001b[0m\n\u001b[1;32m   1028\u001b[0m \u001b[0;34m\u001b[0m\u001b[0m\n",
            "\u001b[0;32m/usr/local/lib/python3.10/dist-packages/pandas/io/parsers/readers.py\u001b[0m in \u001b[0;36m_read\u001b[0;34m(filepath_or_buffer, kwds)\u001b[0m\n\u001b[1;32m    618\u001b[0m \u001b[0;34m\u001b[0m\u001b[0m\n\u001b[1;32m    619\u001b[0m     \u001b[0;31m# Create the parser.\u001b[0m\u001b[0;34m\u001b[0m\u001b[0;34m\u001b[0m\u001b[0m\n\u001b[0;32m--> 620\u001b[0;31m     \u001b[0mparser\u001b[0m \u001b[0;34m=\u001b[0m \u001b[0mTextFileReader\u001b[0m\u001b[0;34m(\u001b[0m\u001b[0mfilepath_or_buffer\u001b[0m\u001b[0;34m,\u001b[0m \u001b[0;34m**\u001b[0m\u001b[0mkwds\u001b[0m\u001b[0;34m)\u001b[0m\u001b[0;34m\u001b[0m\u001b[0;34m\u001b[0m\u001b[0m\n\u001b[0m\u001b[1;32m    621\u001b[0m \u001b[0;34m\u001b[0m\u001b[0m\n\u001b[1;32m    622\u001b[0m     \u001b[0;32mif\u001b[0m \u001b[0mchunksize\u001b[0m \u001b[0;32mor\u001b[0m \u001b[0miterator\u001b[0m\u001b[0;34m:\u001b[0m\u001b[0;34m\u001b[0m\u001b[0;34m\u001b[0m\u001b[0m\n",
            "\u001b[0;32m/usr/local/lib/python3.10/dist-packages/pandas/io/parsers/readers.py\u001b[0m in \u001b[0;36m__init__\u001b[0;34m(self, f, engine, **kwds)\u001b[0m\n\u001b[1;32m   1618\u001b[0m \u001b[0;34m\u001b[0m\u001b[0m\n\u001b[1;32m   1619\u001b[0m         \u001b[0mself\u001b[0m\u001b[0;34m.\u001b[0m\u001b[0mhandles\u001b[0m\u001b[0;34m:\u001b[0m \u001b[0mIOHandles\u001b[0m \u001b[0;34m|\u001b[0m \u001b[0;32mNone\u001b[0m \u001b[0;34m=\u001b[0m \u001b[0;32mNone\u001b[0m\u001b[0;34m\u001b[0m\u001b[0;34m\u001b[0m\u001b[0m\n\u001b[0;32m-> 1620\u001b[0;31m         \u001b[0mself\u001b[0m\u001b[0;34m.\u001b[0m\u001b[0m_engine\u001b[0m \u001b[0;34m=\u001b[0m \u001b[0mself\u001b[0m\u001b[0;34m.\u001b[0m\u001b[0m_make_engine\u001b[0m\u001b[0;34m(\u001b[0m\u001b[0mf\u001b[0m\u001b[0;34m,\u001b[0m \u001b[0mself\u001b[0m\u001b[0;34m.\u001b[0m\u001b[0mengine\u001b[0m\u001b[0;34m)\u001b[0m\u001b[0;34m\u001b[0m\u001b[0;34m\u001b[0m\u001b[0m\n\u001b[0m\u001b[1;32m   1621\u001b[0m \u001b[0;34m\u001b[0m\u001b[0m\n\u001b[1;32m   1622\u001b[0m     \u001b[0;32mdef\u001b[0m \u001b[0mclose\u001b[0m\u001b[0;34m(\u001b[0m\u001b[0mself\u001b[0m\u001b[0;34m)\u001b[0m \u001b[0;34m->\u001b[0m \u001b[0;32mNone\u001b[0m\u001b[0;34m:\u001b[0m\u001b[0;34m\u001b[0m\u001b[0;34m\u001b[0m\u001b[0m\n",
            "\u001b[0;32m/usr/local/lib/python3.10/dist-packages/pandas/io/parsers/readers.py\u001b[0m in \u001b[0;36m_make_engine\u001b[0;34m(self, f, engine)\u001b[0m\n\u001b[1;32m   1878\u001b[0m                 \u001b[0;32mif\u001b[0m \u001b[0;34m\"b\"\u001b[0m \u001b[0;32mnot\u001b[0m \u001b[0;32min\u001b[0m \u001b[0mmode\u001b[0m\u001b[0;34m:\u001b[0m\u001b[0;34m\u001b[0m\u001b[0;34m\u001b[0m\u001b[0m\n\u001b[1;32m   1879\u001b[0m                     \u001b[0mmode\u001b[0m \u001b[0;34m+=\u001b[0m \u001b[0;34m\"b\"\u001b[0m\u001b[0;34m\u001b[0m\u001b[0;34m\u001b[0m\u001b[0m\n\u001b[0;32m-> 1880\u001b[0;31m             self.handles = get_handle(\n\u001b[0m\u001b[1;32m   1881\u001b[0m                 \u001b[0mf\u001b[0m\u001b[0;34m,\u001b[0m\u001b[0;34m\u001b[0m\u001b[0;34m\u001b[0m\u001b[0m\n\u001b[1;32m   1882\u001b[0m                 \u001b[0mmode\u001b[0m\u001b[0;34m,\u001b[0m\u001b[0;34m\u001b[0m\u001b[0;34m\u001b[0m\u001b[0m\n",
            "\u001b[0;32m/usr/local/lib/python3.10/dist-packages/pandas/io/common.py\u001b[0m in \u001b[0;36mget_handle\u001b[0;34m(path_or_buf, mode, encoding, compression, memory_map, is_text, errors, storage_options)\u001b[0m\n\u001b[1;32m    871\u001b[0m         \u001b[0;32mif\u001b[0m \u001b[0mioargs\u001b[0m\u001b[0;34m.\u001b[0m\u001b[0mencoding\u001b[0m \u001b[0;32mand\u001b[0m \u001b[0;34m\"b\"\u001b[0m \u001b[0;32mnot\u001b[0m \u001b[0;32min\u001b[0m \u001b[0mioargs\u001b[0m\u001b[0;34m.\u001b[0m\u001b[0mmode\u001b[0m\u001b[0;34m:\u001b[0m\u001b[0;34m\u001b[0m\u001b[0;34m\u001b[0m\u001b[0m\n\u001b[1;32m    872\u001b[0m             \u001b[0;31m# Encoding\u001b[0m\u001b[0;34m\u001b[0m\u001b[0;34m\u001b[0m\u001b[0m\n\u001b[0;32m--> 873\u001b[0;31m             handle = open(\n\u001b[0m\u001b[1;32m    874\u001b[0m                 \u001b[0mhandle\u001b[0m\u001b[0;34m,\u001b[0m\u001b[0;34m\u001b[0m\u001b[0;34m\u001b[0m\u001b[0m\n\u001b[1;32m    875\u001b[0m                 \u001b[0mioargs\u001b[0m\u001b[0;34m.\u001b[0m\u001b[0mmode\u001b[0m\u001b[0;34m,\u001b[0m\u001b[0;34m\u001b[0m\u001b[0;34m\u001b[0m\u001b[0m\n",
            "\u001b[0;31mFileNotFoundError\u001b[0m: [Errno 2] No such file or directory: '../input/skin-cancer-mnist-ham10000/HAM10000_metadata.csv'"
          ]
        }
      ]
    },
    {
      "cell_type": "code",
      "source": [
        "df.info()"
      ],
      "metadata": {
        "execution": {
          "iopub.status.busy": "2023-01-31T17:43:37.939513Z",
          "iopub.execute_input": "2023-01-31T17:43:37.940462Z",
          "iopub.status.idle": "2023-01-31T17:43:37.96764Z",
          "shell.execute_reply.started": "2023-01-31T17:43:37.940395Z",
          "shell.execute_reply": "2023-01-31T17:43:37.966154Z"
        },
        "trusted": true,
        "id": "jmdCr1qRBMqa",
        "outputId": "a8fa1b55-0466-4003-ccbd-5f9fc0759747",
        "colab": {
          "base_uri": "https://localhost:8080/",
          "height": 165
        }
      },
      "execution_count": null,
      "outputs": [
        {
          "output_type": "error",
          "ename": "NameError",
          "evalue": "name 'df' is not defined",
          "traceback": [
            "\u001b[0;31m---------------------------------------------------------------------------\u001b[0m",
            "\u001b[0;31mNameError\u001b[0m                                 Traceback (most recent call last)",
            "\u001b[0;32m<ipython-input-8-a74c58233b9e>\u001b[0m in \u001b[0;36m<cell line: 1>\u001b[0;34m()\u001b[0m\n\u001b[0;32m----> 1\u001b[0;31m \u001b[0mdf\u001b[0m\u001b[0;34m.\u001b[0m\u001b[0minfo\u001b[0m\u001b[0;34m(\u001b[0m\u001b[0;34m)\u001b[0m\u001b[0;34m\u001b[0m\u001b[0;34m\u001b[0m\u001b[0m\n\u001b[0m",
            "\u001b[0;31mNameError\u001b[0m: name 'df' is not defined"
          ]
        }
      ]
    },
    {
      "cell_type": "code",
      "source": [
        "df.shape"
      ],
      "metadata": {
        "execution": {
          "iopub.status.busy": "2023-01-31T17:43:37.971904Z",
          "iopub.execute_input": "2023-01-31T17:43:37.972827Z",
          "iopub.status.idle": "2023-01-31T17:43:37.98067Z",
          "shell.execute_reply.started": "2023-01-31T17:43:37.972761Z",
          "shell.execute_reply": "2023-01-31T17:43:37.979435Z"
        },
        "trusted": true,
        "id": "mveeyuxbBMqb",
        "outputId": "d3b98062-0ec7-4cae-d8a2-0694fb498b28",
        "colab": {
          "base_uri": "https://localhost:8080/",
          "height": 165
        }
      },
      "execution_count": null,
      "outputs": [
        {
          "output_type": "error",
          "ename": "NameError",
          "evalue": "name 'df' is not defined",
          "traceback": [
            "\u001b[0;31m---------------------------------------------------------------------------\u001b[0m",
            "\u001b[0;31mNameError\u001b[0m                                 Traceback (most recent call last)",
            "\u001b[0;32m<ipython-input-9-633337079cd0>\u001b[0m in \u001b[0;36m<cell line: 1>\u001b[0;34m()\u001b[0m\n\u001b[0;32m----> 1\u001b[0;31m \u001b[0mdf\u001b[0m\u001b[0;34m.\u001b[0m\u001b[0mshape\u001b[0m\u001b[0;34m\u001b[0m\u001b[0;34m\u001b[0m\u001b[0m\n\u001b[0m",
            "\u001b[0;31mNameError\u001b[0m: name 'df' is not defined"
          ]
        }
      ]
    },
    {
      "cell_type": "markdown",
      "source": [
        "# Preprocesamiento de datos"
      ],
      "metadata": {
        "id": "ACIlj50VBMqc"
      }
    },
    {
      "cell_type": "markdown",
      "source": [
        "### Creación de diccionario para mostrar etiquetas más amigables para los humanos."
      ],
      "metadata": {
        "id": "qwFhT1fNBMqh"
      }
    },
    {
      "cell_type": "code",
      "source": [
        "lesion_type_dict = {\n",
        "    'nv': 'Melanocytic nevi',\n",
        "    'mel': 'Melanoma',\n",
        "    'bkl': 'Benign keratosis-like lesions ',\n",
        "    'bcc': 'Basal cell carcinoma',\n",
        "    'akiec': 'Actinic keratoses',\n",
        "    'vasc': 'Vascular lesions',\n",
        "    'df': 'Dermatofibroma'\n",
        "}\n",
        "base_skin_dir = '../input/skin-cancer-mnist-ham10000'"
      ],
      "metadata": {
        "execution": {
          "iopub.status.busy": "2023-01-31T17:43:37.982835Z",
          "iopub.execute_input": "2023-01-31T17:43:37.983885Z",
          "iopub.status.idle": "2023-01-31T17:43:37.994322Z",
          "shell.execute_reply.started": "2023-01-31T17:43:37.983819Z",
          "shell.execute_reply": "2023-01-31T17:43:37.992694Z"
        },
        "trusted": true,
        "id": "JAbZA69LBMqi"
      },
      "execution_count": null,
      "outputs": []
    },
    {
      "cell_type": "markdown",
      "source": [
        "### Fusionar imágenes de ambas carpetas en un diccionario"
      ],
      "metadata": {
        "id": "SzjRa8-7BMqk"
      }
    },
    {
      "cell_type": "code",
      "source": [
        "imageid_path_dict = {os.path.splitext(os.path.basename(x))[0]: x\n",
        "                     for x in glob(os.path.join(base_skin_dir, '*', '*.jpg'))}"
      ],
      "metadata": {
        "execution": {
          "iopub.status.busy": "2023-01-31T17:43:37.996073Z",
          "iopub.execute_input": "2023-01-31T17:43:37.996808Z",
          "iopub.status.idle": "2023-01-31T17:43:38.134327Z",
          "shell.execute_reply.started": "2023-01-31T17:43:37.996765Z",
          "shell.execute_reply": "2023-01-31T17:43:38.132779Z"
        },
        "trusted": true,
        "id": "nBjb1es7BMqk"
      },
      "execution_count": null,
      "outputs": []
    },
    {
      "cell_type": "markdown",
      "source": [
        "###Crear nuevas columnas para una mejor comprensión de las funciones"
      ],
      "metadata": {
        "id": "FJqk-Ii2BMql"
      }
    },
    {
      "cell_type": "code",
      "source": [
        "df['path'] = df['image_id'].map(imageid_path_dict.get)\n",
        "df['cell_type'] = df['dx'].map(lesion_type_dict.get)\n",
        "df['cell_type_idx'] = pd.Categorical(df['cell_type']).codes\n",
        "\n",
        "df.head()"
      ],
      "metadata": {
        "execution": {
          "iopub.status.busy": "2023-01-31T17:43:38.136906Z",
          "iopub.execute_input": "2023-01-31T17:43:38.137563Z",
          "iopub.status.idle": "2023-01-31T17:43:38.17391Z",
          "shell.execute_reply.started": "2023-01-31T17:43:38.137509Z",
          "shell.execute_reply": "2023-01-31T17:43:38.172189Z"
        },
        "trusted": true,
        "id": "2qLuMK8CBMql",
        "outputId": "461fa020-ba96-48da-b678-271666b69f6a",
        "colab": {
          "base_uri": "https://localhost:8080/",
          "height": 237
        }
      },
      "execution_count": null,
      "outputs": [
        {
          "output_type": "error",
          "ename": "NameError",
          "evalue": "name 'df' is not defined",
          "traceback": [
            "\u001b[0;31m---------------------------------------------------------------------------\u001b[0m",
            "\u001b[0;31mNameError\u001b[0m                                 Traceback (most recent call last)",
            "\u001b[0;32m<ipython-input-12-b904ba480d5d>\u001b[0m in \u001b[0;36m<cell line: 1>\u001b[0;34m()\u001b[0m\n\u001b[0;32m----> 1\u001b[0;31m \u001b[0mdf\u001b[0m\u001b[0;34m[\u001b[0m\u001b[0;34m'path'\u001b[0m\u001b[0;34m]\u001b[0m \u001b[0;34m=\u001b[0m \u001b[0mdf\u001b[0m\u001b[0;34m[\u001b[0m\u001b[0;34m'image_id'\u001b[0m\u001b[0;34m]\u001b[0m\u001b[0;34m.\u001b[0m\u001b[0mmap\u001b[0m\u001b[0;34m(\u001b[0m\u001b[0mimageid_path_dict\u001b[0m\u001b[0;34m.\u001b[0m\u001b[0mget\u001b[0m\u001b[0;34m)\u001b[0m\u001b[0;34m\u001b[0m\u001b[0;34m\u001b[0m\u001b[0m\n\u001b[0m\u001b[1;32m      2\u001b[0m \u001b[0mdf\u001b[0m\u001b[0;34m[\u001b[0m\u001b[0;34m'cell_type'\u001b[0m\u001b[0;34m]\u001b[0m \u001b[0;34m=\u001b[0m \u001b[0mdf\u001b[0m\u001b[0;34m[\u001b[0m\u001b[0;34m'dx'\u001b[0m\u001b[0;34m]\u001b[0m\u001b[0;34m.\u001b[0m\u001b[0mmap\u001b[0m\u001b[0;34m(\u001b[0m\u001b[0mlesion_type_dict\u001b[0m\u001b[0;34m.\u001b[0m\u001b[0mget\u001b[0m\u001b[0;34m)\u001b[0m\u001b[0;34m\u001b[0m\u001b[0;34m\u001b[0m\u001b[0m\n\u001b[1;32m      3\u001b[0m \u001b[0mdf\u001b[0m\u001b[0;34m[\u001b[0m\u001b[0;34m'cell_type_idx'\u001b[0m\u001b[0;34m]\u001b[0m \u001b[0;34m=\u001b[0m \u001b[0mpd\u001b[0m\u001b[0;34m.\u001b[0m\u001b[0mCategorical\u001b[0m\u001b[0;34m(\u001b[0m\u001b[0mdf\u001b[0m\u001b[0;34m[\u001b[0m\u001b[0;34m'cell_type'\u001b[0m\u001b[0;34m]\u001b[0m\u001b[0;34m)\u001b[0m\u001b[0;34m.\u001b[0m\u001b[0mcodes\u001b[0m\u001b[0;34m\u001b[0m\u001b[0;34m\u001b[0m\u001b[0m\n\u001b[1;32m      4\u001b[0m \u001b[0;34m\u001b[0m\u001b[0m\n\u001b[1;32m      5\u001b[0m \u001b[0mdf\u001b[0m\u001b[0;34m.\u001b[0m\u001b[0mhead\u001b[0m\u001b[0;34m(\u001b[0m\u001b[0;34m)\u001b[0m\u001b[0;34m\u001b[0m\u001b[0;34m\u001b[0m\u001b[0m\n",
            "\u001b[0;31mNameError\u001b[0m: name 'df' is not defined"
          ]
        }
      ]
    },
    {
      "cell_type": "markdown",
      "source": [
        "## Limpieza de datos"
      ],
      "metadata": {
        "id": "yWKM02vTBMqm"
      }
    },
    {
      "cell_type": "code",
      "source": [
        "df.isna().sum()"
      ],
      "metadata": {
        "execution": {
          "iopub.status.busy": "2023-01-31T17:43:38.176092Z",
          "iopub.execute_input": "2023-01-31T17:43:38.176543Z",
          "iopub.status.idle": "2023-01-31T17:43:38.198018Z",
          "shell.execute_reply.started": "2023-01-31T17:43:38.176504Z",
          "shell.execute_reply": "2023-01-31T17:43:38.196578Z"
        },
        "trusted": true,
        "id": "q_5CwfclBMqm"
      },
      "execution_count": null,
      "outputs": []
    },
    {
      "cell_type": "code",
      "source": [
        "df['age'].fillna((df['age'].mean()), inplace=True)"
      ],
      "metadata": {
        "execution": {
          "iopub.status.busy": "2023-01-31T17:43:38.199871Z",
          "iopub.execute_input": "2023-01-31T17:43:38.200279Z",
          "iopub.status.idle": "2023-01-31T17:43:38.20853Z",
          "shell.execute_reply.started": "2023-01-31T17:43:38.200244Z",
          "shell.execute_reply": "2023-01-31T17:43:38.207422Z"
        },
        "trusted": true,
        "id": "Q-U3vaC3BMqm"
      },
      "execution_count": null,
      "outputs": []
    },
    {
      "cell_type": "code",
      "source": [
        "df.isna().sum().sum()"
      ],
      "metadata": {
        "execution": {
          "iopub.status.busy": "2023-01-31T17:43:38.210018Z",
          "iopub.execute_input": "2023-01-31T17:43:38.210421Z",
          "iopub.status.idle": "2023-01-31T17:43:38.235639Z",
          "shell.execute_reply.started": "2023-01-31T17:43:38.210349Z",
          "shell.execute_reply": "2023-01-31T17:43:38.23359Z"
        },
        "trusted": true,
        "id": "MlXNlcHBBMqn"
      },
      "execution_count": null,
      "outputs": []
    },
    {
      "cell_type": "markdown",
      "source": [
        "**Note :**\n",
        "-Nuestros datos ahora están limpios, sin valores nulos."
      ],
      "metadata": {
        "id": "JyaYlxLyBMqn"
      }
    },
    {
      "cell_type": "markdown",
      "source": [
        "#Análisis de datos exploratorios"
      ],
      "metadata": {
        "id": "9Hz0P3vzBMqo"
      }
    },
    {
      "cell_type": "markdown",
      "source": [
        "### Diferenciabilidad según el género"
      ],
      "metadata": {
        "id": "0Rp8xRfuBMqo"
      }
    },
    {
      "cell_type": "code",
      "source": [
        "sns.set_style('whitegrid')\n",
        "colors = ['#87ace8','#e3784d', 'green']\n",
        "fig,axes = plt.subplots(figsize=(12,8))\n",
        "\n",
        "ax = sns.countplot(x='sex',data=df, palette = 'Paired')\n",
        "for container in ax.containers:\n",
        "    ax.bar_label(container)\n",
        "plt.title('Gender-wise Distribution')\n",
        "plt.xticks(rotation=45)\n",
        "plt.show()"
      ],
      "metadata": {
        "execution": {
          "iopub.status.busy": "2023-01-31T17:43:38.238002Z",
          "iopub.execute_input": "2023-01-31T17:43:38.238822Z",
          "iopub.status.idle": "2023-01-31T17:43:38.520242Z",
          "shell.execute_reply.started": "2023-01-31T17:43:38.238734Z",
          "shell.execute_reply": "2023-01-31T17:43:38.519058Z"
        },
        "trusted": true,
        "id": "in5XLN0-BMqo",
        "outputId": "fd649a64-3f7a-419f-bc1f-e06f48364c22",
        "colab": {
          "base_uri": "https://localhost:8080/",
          "height": 902
        }
      },
      "execution_count": null,
      "outputs": [
        {
          "output_type": "error",
          "ename": "NameError",
          "evalue": "name 'df' is not defined",
          "traceback": [
            "\u001b[0;31m---------------------------------------------------------------------------\u001b[0m",
            "\u001b[0;31mNameError\u001b[0m                                 Traceback (most recent call last)",
            "\u001b[0;32m<ipython-input-13-9f92caa76764>\u001b[0m in \u001b[0;36m<cell line: 5>\u001b[0;34m()\u001b[0m\n\u001b[1;32m      3\u001b[0m \u001b[0mfig\u001b[0m\u001b[0;34m,\u001b[0m\u001b[0maxes\u001b[0m \u001b[0;34m=\u001b[0m \u001b[0mplt\u001b[0m\u001b[0;34m.\u001b[0m\u001b[0msubplots\u001b[0m\u001b[0;34m(\u001b[0m\u001b[0mfigsize\u001b[0m\u001b[0;34m=\u001b[0m\u001b[0;34m(\u001b[0m\u001b[0;36m12\u001b[0m\u001b[0;34m,\u001b[0m\u001b[0;36m8\u001b[0m\u001b[0;34m)\u001b[0m\u001b[0;34m)\u001b[0m\u001b[0;34m\u001b[0m\u001b[0;34m\u001b[0m\u001b[0m\n\u001b[1;32m      4\u001b[0m \u001b[0;34m\u001b[0m\u001b[0m\n\u001b[0;32m----> 5\u001b[0;31m \u001b[0max\u001b[0m \u001b[0;34m=\u001b[0m \u001b[0msns\u001b[0m\u001b[0;34m.\u001b[0m\u001b[0mcountplot\u001b[0m\u001b[0;34m(\u001b[0m\u001b[0mx\u001b[0m\u001b[0;34m=\u001b[0m\u001b[0;34m'sex'\u001b[0m\u001b[0;34m,\u001b[0m\u001b[0mdata\u001b[0m\u001b[0;34m=\u001b[0m\u001b[0mdf\u001b[0m\u001b[0;34m,\u001b[0m \u001b[0mpalette\u001b[0m \u001b[0;34m=\u001b[0m \u001b[0;34m'Paired'\u001b[0m\u001b[0;34m)\u001b[0m\u001b[0;34m\u001b[0m\u001b[0;34m\u001b[0m\u001b[0m\n\u001b[0m\u001b[1;32m      6\u001b[0m \u001b[0;32mfor\u001b[0m \u001b[0mcontainer\u001b[0m \u001b[0;32min\u001b[0m \u001b[0max\u001b[0m\u001b[0;34m.\u001b[0m\u001b[0mcontainers\u001b[0m\u001b[0;34m:\u001b[0m\u001b[0;34m\u001b[0m\u001b[0;34m\u001b[0m\u001b[0m\n\u001b[1;32m      7\u001b[0m     \u001b[0max\u001b[0m\u001b[0;34m.\u001b[0m\u001b[0mbar_label\u001b[0m\u001b[0;34m(\u001b[0m\u001b[0mcontainer\u001b[0m\u001b[0;34m)\u001b[0m\u001b[0;34m\u001b[0m\u001b[0;34m\u001b[0m\u001b[0m\n",
            "\u001b[0;31mNameError\u001b[0m: name 'df' is not defined"
          ]
        },
        {
          "output_type": "display_data",
          "data": {
            "text/plain": [
              "<Figure size 1200x800 with 1 Axes>"
            ],
            "image/png": "[encoded data removed]"
          },
          "metadata": {}
        }
      ]
    },
    {
      "cell_type": "markdown",
      "source": [
        "**Note :**\n",
        "\n",
        "\n",
        "-Parece que la mayoría de los hombres se ven afectados por síntomas de cáncer de piel.\n",
        "\n",
        "\n",
        "-Aunque podemos decir que no existe una diferencia apar cuando se considera verse afectado según el género."
      ],
      "metadata": {
        "id": "0aS3SlpSBMqo"
      }
    },
    {
      "cell_type": "code",
      "source": [],
      "metadata": {
        "id": "5x30GSmZC7sK"
      },
      "execution_count": null,
      "outputs": []
    },
    {
      "cell_type": "markdown",
      "source": [
        "### El tipo de célula afecta a los pacientes."
      ],
      "metadata": {
        "id": "_GqFVgHGBMqp"
      }
    },
    {
      "cell_type": "code",
      "source": [
        "sns.set_style('whitegrid')\n",
        "fig,axes = plt.subplots(figsize=(12,8))\n",
        "ax = sns.countplot(x='cell_type',data=df, order = df['cell_type'].value_counts().index, palette = 'Paired')\n",
        "for container in ax.containers:\n",
        "    ax.bar_label(container)\n",
        "plt.title('Cell Types Skin Cancer Affected patients')\n",
        "plt.xticks(rotation=45)\n",
        "plt.show()"
      ],
      "metadata": {
        "execution": {
          "iopub.status.busy": "2023-01-31T17:43:38.522445Z",
          "iopub.execute_input": "2023-01-31T17:43:38.522959Z",
          "iopub.status.idle": "2023-01-31T17:43:38.885726Z",
          "shell.execute_reply.started": "2023-01-31T17:43:38.522914Z",
          "shell.execute_reply": "2023-01-31T17:43:38.884016Z"
        },
        "trusted": true,
        "id": "mBRKk_xRBMqp",
        "outputId": "3696b42f-7b45-41ee-f0cc-d659d901d58c",
        "colab": {
          "base_uri": "https://localhost:8080/",
          "height": 902
        }
      },
      "execution_count": null,
      "outputs": [
        {
          "output_type": "error",
          "ename": "NameError",
          "evalue": "name 'df' is not defined",
          "traceback": [
            "\u001b[0;31m---------------------------------------------------------------------------\u001b[0m",
            "\u001b[0;31mNameError\u001b[0m                                 Traceback (most recent call last)",
            "\u001b[0;32m<ipython-input-14-91834c66b92f>\u001b[0m in \u001b[0;36m<cell line: 3>\u001b[0;34m()\u001b[0m\n\u001b[1;32m      1\u001b[0m \u001b[0msns\u001b[0m\u001b[0;34m.\u001b[0m\u001b[0mset_style\u001b[0m\u001b[0;34m(\u001b[0m\u001b[0;34m'whitegrid'\u001b[0m\u001b[0;34m)\u001b[0m\u001b[0;34m\u001b[0m\u001b[0;34m\u001b[0m\u001b[0m\n\u001b[1;32m      2\u001b[0m \u001b[0mfig\u001b[0m\u001b[0;34m,\u001b[0m\u001b[0maxes\u001b[0m \u001b[0;34m=\u001b[0m \u001b[0mplt\u001b[0m\u001b[0;34m.\u001b[0m\u001b[0msubplots\u001b[0m\u001b[0;34m(\u001b[0m\u001b[0mfigsize\u001b[0m\u001b[0;34m=\u001b[0m\u001b[0;34m(\u001b[0m\u001b[0;36m12\u001b[0m\u001b[0;34m,\u001b[0m\u001b[0;36m8\u001b[0m\u001b[0;34m)\u001b[0m\u001b[0;34m)\u001b[0m\u001b[0;34m\u001b[0m\u001b[0;34m\u001b[0m\u001b[0m\n\u001b[0;32m----> 3\u001b[0;31m \u001b[0max\u001b[0m \u001b[0;34m=\u001b[0m \u001b[0msns\u001b[0m\u001b[0;34m.\u001b[0m\u001b[0mcountplot\u001b[0m\u001b[0;34m(\u001b[0m\u001b[0mx\u001b[0m\u001b[0;34m=\u001b[0m\u001b[0;34m'cell_type'\u001b[0m\u001b[0;34m,\u001b[0m\u001b[0mdata\u001b[0m\u001b[0;34m=\u001b[0m\u001b[0mdf\u001b[0m\u001b[0;34m,\u001b[0m \u001b[0morder\u001b[0m \u001b[0;34m=\u001b[0m \u001b[0mdf\u001b[0m\u001b[0;34m[\u001b[0m\u001b[0;34m'cell_type'\u001b[0m\u001b[0;34m]\u001b[0m\u001b[0;34m.\u001b[0m\u001b[0mvalue_counts\u001b[0m\u001b[0;34m(\u001b[0m\u001b[0;34m)\u001b[0m\u001b[0;34m.\u001b[0m\u001b[0mindex\u001b[0m\u001b[0;34m,\u001b[0m \u001b[0mpalette\u001b[0m \u001b[0;34m=\u001b[0m \u001b[0;34m'Paired'\u001b[0m\u001b[0;34m)\u001b[0m\u001b[0;34m\u001b[0m\u001b[0;34m\u001b[0m\u001b[0m\n\u001b[0m\u001b[1;32m      4\u001b[0m \u001b[0;32mfor\u001b[0m \u001b[0mcontainer\u001b[0m \u001b[0;32min\u001b[0m \u001b[0max\u001b[0m\u001b[0;34m.\u001b[0m\u001b[0mcontainers\u001b[0m\u001b[0;34m:\u001b[0m\u001b[0;34m\u001b[0m\u001b[0;34m\u001b[0m\u001b[0m\n\u001b[1;32m      5\u001b[0m     \u001b[0max\u001b[0m\u001b[0;34m.\u001b[0m\u001b[0mbar_label\u001b[0m\u001b[0;34m(\u001b[0m\u001b[0mcontainer\u001b[0m\u001b[0;34m)\u001b[0m\u001b[0;34m\u001b[0m\u001b[0;34m\u001b[0m\u001b[0m\n",
            "\u001b[0;31mNameError\u001b[0m: name 'df' is not defined"
          ]
        },
        {
          "output_type": "display_data",
          "data": {
            "text/plain": [
              "<Figure size 1200x800 with 1 Axes>"
            ],
            "image/png": "[encoded data removed]"
          },
          "metadata": {}
        }
      ]
    },
    {
      "cell_type": "markdown",
      "source": [
        "**Note :**\n",
        "- Hay una gran cantidad de casos de *nevos melanocíticos* en comparación con otros.\n",
        "- *El melanoma* y las *lesiones benignas similares a la queratosis* están bastante menos extendidas en comparación con los *nevos melanocíticos*.\n",
        "- Posteriormente, otros virus de tipo celular afectaron en menor número."
      ],
      "metadata": {
        "id": "IrCKHvoNBMqp"
      }
    },
    {
      "cell_type": "markdown",
      "source": [
        "###Género vs tipo de célula."
      ],
      "metadata": {
        "id": "nImLwznpBMqp"
      }
    },
    {
      "cell_type": "code",
      "source": [
        "sns.set_style('whitegrid')\n",
        "fig,axes = plt.subplots(figsize=(12,8))\n",
        "ax = sns.countplot(x='cell_type',hue='sex', data=df, order = df['cell_type'].value_counts().index, palette = 'Paired')\n",
        "for container in ax.containers:\n",
        "    ax.bar_label(container)\n",
        "plt.title('Cell Types Frequencies')\n",
        "plt.xticks(rotation=45)\n",
        "plt.show()"
      ],
      "metadata": {
        "execution": {
          "iopub.status.busy": "2023-01-31T17:43:38.89355Z",
          "iopub.execute_input": "2023-01-31T17:43:38.894021Z",
          "iopub.status.idle": "2023-01-31T17:43:39.387139Z",
          "shell.execute_reply.started": "2023-01-31T17:43:38.893983Z",
          "shell.execute_reply": "2023-01-31T17:43:39.385301Z"
        },
        "trusted": true,
        "id": "0YTr0j1TBMqq"
      },
      "execution_count": null,
      "outputs": []
    },
    {
      "cell_type": "markdown",
      "source": [
        "**Nota :**\n",
        "- Parece que para cada tipo de cáncer de piel, la mayoría de los hombres son víctimas."
      ],
      "metadata": {
        "id": "J-yd40RDBMqq"
      }
    },
    {
      "cell_type": "markdown",
      "source": [
        "### Tipo de celda"
      ],
      "metadata": {
        "id": "Gwd3GttIBMqq"
      }
    },
    {
      "cell_type": "code",
      "source": [
        "sns.set_style('whitegrid')\n",
        "fig,axes = plt.subplots(figsize=(12,8))\n",
        "ax = sns.countplot(x='dx_type',data=df, order = df['dx_type'].value_counts().index, palette = 'flare')\n",
        "for container in ax.containers:\n",
        "    ax.bar_label(container)\n",
        "plt.title('Cell Types Frequencies')\n",
        "plt.xticks(rotation=45)\n",
        "plt.show()"
      ],
      "metadata": {
        "execution": {
          "iopub.status.busy": "2023-01-31T17:43:39.389095Z",
          "iopub.execute_input": "2023-01-31T17:43:39.389738Z",
          "iopub.status.idle": "2023-01-31T17:43:39.677826Z",
          "shell.execute_reply.started": "2023-01-31T17:43:39.389698Z",
          "shell.execute_reply": "2023-01-31T17:43:39.675901Z"
        },
        "trusted": true,
        "id": "ipsy4URyBMqr"
      },
      "execution_count": null,
      "outputs": []
    },
    {
      "cell_type": "markdown",
      "source": [
        "### Distribución de tipos de células por género"
      ],
      "metadata": {
        "id": "I7IDLgiqBMqr"
      }
    },
    {
      "cell_type": "code",
      "source": [
        "sns.set_style('whitegrid')\n",
        "fig,axes = plt.subplots(figsize=(12,8))\n",
        "ax = sns.countplot(x='dx_type',hue='sex', data=df, order = df['dx_type'].value_counts().index, palette = 'flare')\n",
        "for container in ax.containers:\n",
        "    ax.bar_label(container)\n",
        "plt.title('Cell Types Frequencies')\n",
        "plt.xticks(rotation=45)\n",
        "plt.show()"
      ],
      "metadata": {
        "execution": {
          "iopub.status.busy": "2023-01-31T17:43:39.680423Z",
          "iopub.execute_input": "2023-01-31T17:43:39.681106Z",
          "iopub.status.idle": "2023-01-31T17:43:40.063243Z",
          "shell.execute_reply.started": "2023-01-31T17:43:39.68105Z",
          "shell.execute_reply": "2023-01-31T17:43:40.061425Z"
        },
        "trusted": true,
        "id": "yuiKsKvQBMqr"
      },
      "execution_count": null,
      "outputs": []
    },
    {
      "cell_type": "markdown",
      "source": [
        "### Área de localización"
      ],
      "metadata": {
        "id": "bFk3_iezBMqr"
      }
    },
    {
      "cell_type": "code",
      "source": [
        "sns.set_style('whitegrid')\n",
        "fig,axes = plt.subplots(figsize=(12,8))\n",
        "ax = sns.countplot(x='localization',data=df, order = df['localization'].value_counts().index, palette = 'crest')\n",
        "for container in ax.containers:\n",
        "    ax.bar_label(container)\n",
        "plt.title('Localization Area Frequencies')\n",
        "plt.xticks(rotation=45)\n",
        "plt.show()"
      ],
      "metadata": {
        "execution": {
          "iopub.status.busy": "2023-01-31T17:43:40.065538Z",
          "iopub.execute_input": "2023-01-31T17:43:40.066221Z",
          "iopub.status.idle": "2023-01-31T17:43:40.466648Z",
          "shell.execute_reply.started": "2023-01-31T17:43:40.066173Z",
          "shell.execute_reply": "2023-01-31T17:43:40.464845Z"
        },
        "trusted": true,
        "id": "3XHUUC8KBMqs"
      },
      "execution_count": null,
      "outputs": []
    },
    {
      "cell_type": "markdown",
      "source": [
        "**Nota :**\n",
        "- Parece que la mayor parte del área afectada está relacionada particularmente con la espalda, las extremidades inferiores o el tronco, etc.\n",
        "- La importancia que le quitamos son las zonas donde la pieza suda con facilidad."
      ],
      "metadata": {
        "id": "0z1CXbgFBMqs"
      }
    },
    {
      "cell_type": "markdown",
      "source": [
        "### Áreas de localización con perspectiva de género"
      ],
      "metadata": {
        "id": "Cv86IDvRBMqs"
      }
    },
    {
      "cell_type": "code",
      "source": [
        "sns.set_style('whitegrid')\n",
        "fig,axes = plt.subplots(figsize=(12,8))\n",
        "ax = sns.countplot(x='localization',hue='sex', data=df, order = df['localization'].value_counts().index, palette = 'crest')\n",
        "for container in ax.containers:\n",
        "    ax.bar_label(container)\n",
        "plt.title('Localization Area Frequencies')\n",
        "plt.xticks(rotation=45)\n",
        "plt.show()"
      ],
      "metadata": {
        "execution": {
          "iopub.status.busy": "2023-01-31T17:43:40.468583Z",
          "iopub.execute_input": "2023-01-31T17:43:40.469065Z",
          "iopub.status.idle": "2023-01-31T17:43:41.152786Z",
          "shell.execute_reply.started": "2023-01-31T17:43:40.469022Z",
          "shell.execute_reply": "2023-01-31T17:43:41.151128Z"
        },
        "trusted": true,
        "id": "CnsFXuf_BMqs",
        "outputId": "a831d1db-c8b4-4466-91c3-e6d0cc4cd0f9",
        "colab": {
          "base_uri": "https://localhost:8080/",
          "height": 902
        }
      },
      "execution_count": null,
      "outputs": [
        {
          "output_type": "error",
          "ename": "NameError",
          "evalue": "name 'df' is not defined",
          "traceback": [
            "\u001b[0;31m---------------------------------------------------------------------------\u001b[0m",
            "\u001b[0;31mNameError\u001b[0m                                 Traceback (most recent call last)",
            "\u001b[0;32m<ipython-input-15-283a103fc12f>\u001b[0m in \u001b[0;36m<cell line: 3>\u001b[0;34m()\u001b[0m\n\u001b[1;32m      1\u001b[0m \u001b[0msns\u001b[0m\u001b[0;34m.\u001b[0m\u001b[0mset_style\u001b[0m\u001b[0;34m(\u001b[0m\u001b[0;34m'whitegrid'\u001b[0m\u001b[0;34m)\u001b[0m\u001b[0;34m\u001b[0m\u001b[0;34m\u001b[0m\u001b[0m\n\u001b[1;32m      2\u001b[0m \u001b[0mfig\u001b[0m\u001b[0;34m,\u001b[0m\u001b[0maxes\u001b[0m \u001b[0;34m=\u001b[0m \u001b[0mplt\u001b[0m\u001b[0;34m.\u001b[0m\u001b[0msubplots\u001b[0m\u001b[0;34m(\u001b[0m\u001b[0mfigsize\u001b[0m\u001b[0;34m=\u001b[0m\u001b[0;34m(\u001b[0m\u001b[0;36m12\u001b[0m\u001b[0;34m,\u001b[0m\u001b[0;36m8\u001b[0m\u001b[0;34m)\u001b[0m\u001b[0;34m)\u001b[0m\u001b[0;34m\u001b[0m\u001b[0;34m\u001b[0m\u001b[0m\n\u001b[0;32m----> 3\u001b[0;31m \u001b[0max\u001b[0m \u001b[0;34m=\u001b[0m \u001b[0msns\u001b[0m\u001b[0;34m.\u001b[0m\u001b[0mcountplot\u001b[0m\u001b[0;34m(\u001b[0m\u001b[0mx\u001b[0m\u001b[0;34m=\u001b[0m\u001b[0;34m'localization'\u001b[0m\u001b[0;34m,\u001b[0m\u001b[0mhue\u001b[0m\u001b[0;34m=\u001b[0m\u001b[0;34m'sex'\u001b[0m\u001b[0;34m,\u001b[0m \u001b[0mdata\u001b[0m\u001b[0;34m=\u001b[0m\u001b[0mdf\u001b[0m\u001b[0;34m,\u001b[0m \u001b[0morder\u001b[0m \u001b[0;34m=\u001b[0m \u001b[0mdf\u001b[0m\u001b[0;34m[\u001b[0m\u001b[0;34m'localization'\u001b[0m\u001b[0;34m]\u001b[0m\u001b[0;34m.\u001b[0m\u001b[0mvalue_counts\u001b[0m\u001b[0;34m(\u001b[0m\u001b[0;34m)\u001b[0m\u001b[0;34m.\u001b[0m\u001b[0mindex\u001b[0m\u001b[0;34m,\u001b[0m \u001b[0mpalette\u001b[0m \u001b[0;34m=\u001b[0m \u001b[0;34m'crest'\u001b[0m\u001b[0;34m)\u001b[0m\u001b[0;34m\u001b[0m\u001b[0;34m\u001b[0m\u001b[0m\n\u001b[0m\u001b[1;32m      4\u001b[0m \u001b[0;32mfor\u001b[0m \u001b[0mcontainer\u001b[0m \u001b[0;32min\u001b[0m \u001b[0max\u001b[0m\u001b[0;34m.\u001b[0m\u001b[0mcontainers\u001b[0m\u001b[0;34m:\u001b[0m\u001b[0;34m\u001b[0m\u001b[0;34m\u001b[0m\u001b[0m\n\u001b[1;32m      5\u001b[0m     \u001b[0max\u001b[0m\u001b[0;34m.\u001b[0m\u001b[0mbar_label\u001b[0m\u001b[0;34m(\u001b[0m\u001b[0mcontainer\u001b[0m\u001b[0;34m)\u001b[0m\u001b[0;34m\u001b[0m\u001b[0;34m\u001b[0m\u001b[0m\n",
            "\u001b[0;31mNameError\u001b[0m: name 'df' is not defined"
          ]
        },
        {
          "output_type": "display_data",
          "data": {
            "text/plain": [
              "<Figure size 1200x800 with 1 Axes>"
            ],
            "image/png": "[encoded data removed]"
          },
          "metadata": {}
        }
      ]
    },
    {
      "cell_type": "markdown",
      "source": [
        "### Edad"
      ],
      "metadata": {
        "id": "FyAFmO_2BMqt"
      }
    },
    {
      "cell_type": "code",
      "source": [
        "sns.set_style('whitegrid')\n",
        "fig,axes = plt.subplots(figsize=(12,8))\n",
        "ax = sns.histplot(data=df, x='age')\n",
        "plt.title('Age Histogram')\n",
        "plt.show()"
      ],
      "metadata": {
        "execution": {
          "iopub.status.busy": "2023-01-31T17:43:41.154716Z",
          "iopub.execute_input": "2023-01-31T17:43:41.156247Z",
          "iopub.status.idle": "2023-01-31T17:43:41.477667Z",
          "shell.execute_reply.started": "2023-01-31T17:43:41.156178Z",
          "shell.execute_reply": "2023-01-31T17:43:41.475611Z"
        },
        "trusted": true,
        "id": "aqWt3XpvBMqt",
        "outputId": "7ba11296-fd11-4f90-8653-f86232e3ecfb",
        "colab": {
          "base_uri": "https://localhost:8080/",
          "height": 902
        }
      },
      "execution_count": null,
      "outputs": [
        {
          "output_type": "error",
          "ename": "NameError",
          "evalue": "name 'df' is not defined",
          "traceback": [
            "\u001b[0;31m---------------------------------------------------------------------------\u001b[0m",
            "\u001b[0;31mNameError\u001b[0m                                 Traceback (most recent call last)",
            "\u001b[0;32m<ipython-input-16-6e544fbd423b>\u001b[0m in \u001b[0;36m<cell line: 3>\u001b[0;34m()\u001b[0m\n\u001b[1;32m      1\u001b[0m \u001b[0msns\u001b[0m\u001b[0;34m.\u001b[0m\u001b[0mset_style\u001b[0m\u001b[0;34m(\u001b[0m\u001b[0;34m'whitegrid'\u001b[0m\u001b[0;34m)\u001b[0m\u001b[0;34m\u001b[0m\u001b[0;34m\u001b[0m\u001b[0m\n\u001b[1;32m      2\u001b[0m \u001b[0mfig\u001b[0m\u001b[0;34m,\u001b[0m\u001b[0maxes\u001b[0m \u001b[0;34m=\u001b[0m \u001b[0mplt\u001b[0m\u001b[0;34m.\u001b[0m\u001b[0msubplots\u001b[0m\u001b[0;34m(\u001b[0m\u001b[0mfigsize\u001b[0m\u001b[0;34m=\u001b[0m\u001b[0;34m(\u001b[0m\u001b[0;36m12\u001b[0m\u001b[0;34m,\u001b[0m\u001b[0;36m8\u001b[0m\u001b[0;34m)\u001b[0m\u001b[0;34m)\u001b[0m\u001b[0;34m\u001b[0m\u001b[0;34m\u001b[0m\u001b[0m\n\u001b[0;32m----> 3\u001b[0;31m \u001b[0max\u001b[0m \u001b[0;34m=\u001b[0m \u001b[0msns\u001b[0m\u001b[0;34m.\u001b[0m\u001b[0mhistplot\u001b[0m\u001b[0;34m(\u001b[0m\u001b[0mdata\u001b[0m\u001b[0;34m=\u001b[0m\u001b[0mdf\u001b[0m\u001b[0;34m,\u001b[0m \u001b[0mx\u001b[0m\u001b[0;34m=\u001b[0m\u001b[0;34m'age'\u001b[0m\u001b[0;34m)\u001b[0m\u001b[0;34m\u001b[0m\u001b[0;34m\u001b[0m\u001b[0m\n\u001b[0m\u001b[1;32m      4\u001b[0m \u001b[0mplt\u001b[0m\u001b[0;34m.\u001b[0m\u001b[0mtitle\u001b[0m\u001b[0;34m(\u001b[0m\u001b[0;34m'Age Histogram'\u001b[0m\u001b[0;34m)\u001b[0m\u001b[0;34m\u001b[0m\u001b[0;34m\u001b[0m\u001b[0m\n\u001b[1;32m      5\u001b[0m \u001b[0mplt\u001b[0m\u001b[0;34m.\u001b[0m\u001b[0mshow\u001b[0m\u001b[0;34m(\u001b[0m\u001b[0;34m)\u001b[0m\u001b[0;34m\u001b[0m\u001b[0;34m\u001b[0m\u001b[0m\n",
            "\u001b[0;31mNameError\u001b[0m: name 'df' is not defined"
          ]
        },
        {
          "output_type": "display_data",
          "data": {
            "text/plain": [
              "<Figure size 1200x800 with 1 Axes>"
            ],
            "image/png": "[encoded data removed]"
          },
          "metadata": {}
        }
      ]
    },
    {
      "cell_type": "markdown",
      "source": [
        "**Nota :**\n",
        "- Parece que la mayoría de las personas afectadas tienen alrededor de 40 años."
      ],
      "metadata": {
        "id": "sJ8_K3ERBMqv"
      }
    },
    {
      "cell_type": "markdown",
      "source": [
        "### Distribución de edad por género"
      ],
      "metadata": {
        "id": "0zKojYMLBMqx"
      }
    },
    {
      "cell_type": "code",
      "source": [
        "sns.set_style('whitegrid')\n",
        "fig,axes = plt.subplots(figsize=(12,8))\n",
        "ax = sns.histplot(data=df, x='age',hue='sex',multiple='stack')\n",
        "plt.title('Age Histogram Gender Wise')\n",
        "plt.show()"
      ],
      "metadata": {
        "execution": {
          "iopub.status.busy": "2023-01-31T17:43:41.480167Z",
          "iopub.execute_input": "2023-01-31T17:43:41.4819Z",
          "iopub.status.idle": "2023-01-31T17:43:42.040313Z",
          "shell.execute_reply.started": "2023-01-31T17:43:41.481834Z",
          "shell.execute_reply": "2023-01-31T17:43:42.038499Z"
        },
        "trusted": true,
        "id": "dcrqnqg6BMqz"
      },
      "execution_count": null,
      "outputs": []
    },
    {
      "cell_type": "markdown",
      "source": [
        "### Tipo de célula frente a edad"
      ],
      "metadata": {
        "id": "HqFHU6g5BMq0"
      }
    },
    {
      "cell_type": "code",
      "source": [
        "sns.set_style('whitegrid')\n",
        "fig,axes = plt.subplots(figsize=(12,8))\n",
        "ax = sns.histplot(data=df, x='age',hue='cell_type',multiple='stack')\n",
        "plt.title('Age Histogram Cell Type Wise')\n",
        "plt.show()"
      ],
      "metadata": {
        "execution": {
          "iopub.status.busy": "2023-01-31T17:43:42.042051Z",
          "iopub.execute_input": "2023-01-31T17:43:42.04248Z",
          "iopub.status.idle": "2023-01-31T17:43:43.408435Z",
          "shell.execute_reply.started": "2023-01-31T17:43:42.042444Z",
          "shell.execute_reply": "2023-01-31T17:43:43.406751Z"
        },
        "trusted": true,
        "id": "YaxJCJgkBMq0"
      },
      "execution_count": null,
      "outputs": []
    },
    {
      "cell_type": "markdown",
      "source": [
        "### Área de localización vs edad"
      ],
      "metadata": {
        "id": "YgEeulmgBMq1"
      }
    },
    {
      "cell_type": "code",
      "source": [
        "sns.set_style('whitegrid')\n",
        "fig,axes = plt.subplots(figsize=(12,8))\n",
        "ax = sns.histplot(data=df, x='age',hue='localization',multiple='stack')\n",
        "plt.title('Age Histogram Localization Area Wise')\n",
        "plt.show()"
      ],
      "metadata": {
        "execution": {
          "iopub.status.busy": "2023-01-31T17:43:43.412697Z",
          "iopub.execute_input": "2023-01-31T17:43:43.415727Z",
          "iopub.status.idle": "2023-01-31T17:43:45.129998Z",
          "shell.execute_reply.started": "2023-01-31T17:43:43.415667Z",
          "shell.execute_reply": "2023-01-31T17:43:45.127971Z"
        },
        "trusted": true,
        "id": "uQc4-f1lBMq1"
      },
      "execution_count": null,
      "outputs": []
    },
    {
      "cell_type": "markdown",
      "source": [
        "#### Cambiar el tamaño de la imagen\n",
        "- Para permitir un procesamiento fluido y con menos tiempo para el tamaño de esta cantidad de datos de imagen, es mejor cambiar el tamaño de la imagen."
      ],
      "metadata": {
        "id": "9EBCV9gkBMq1"
      }
    },
    {
      "cell_type": "code",
      "source": [
        "df['image'] = df['path'].map(lambda x: np.asarray(Image.open(x).resize((100,75))))"
      ],
      "metadata": {
        "execution": {
          "iopub.status.busy": "2023-01-31T17:43:45.131874Z",
          "iopub.execute_input": "2023-01-31T17:43:45.13229Z",
          "iopub.status.idle": "2023-01-31T17:46:58.017461Z",
          "shell.execute_reply.started": "2023-01-31T17:43:45.132252Z",
          "shell.execute_reply": "2023-01-31T17:46:58.01584Z"
        },
        "trusted": true,
        "id": "Mtu9-qsgBMq1"
      },
      "execution_count": null,
      "outputs": []
    },
    {
      "cell_type": "markdown",
      "source": [
        "## Representación pictórica de imágenes del conjunto de datos"
      ],
      "metadata": {
        "id": "9xEBH4lBBMq2"
      }
    },
    {
      "cell_type": "code",
      "source": [
        "n_samples = 5\n",
        "fig, m_axs = plt.subplots(7, n_samples, figsize = (4*n_samples, 3*7))\n",
        "for n_axs, (type_name, type_rows) in zip(m_axs, df.sort_values(['cell_type']).groupby('cell_type')):\n",
        "    n_axs[0].set_title(type_name)\n",
        "    for c_ax, (_, c_row) in zip(n_axs, type_rows.sample(n_samples, random_state=1234).iterrows()):\n",
        "        c_ax.imshow(c_row['image'])\n",
        "        c_ax.axis('off')\n",
        "fig.savefig('category_samples.png', dpi=300)"
      ],
      "metadata": {
        "execution": {
          "iopub.status.busy": "2023-01-31T17:46:58.020058Z",
          "iopub.execute_input": "2023-01-31T17:46:58.02061Z",
          "iopub.status.idle": "2023-01-31T17:47:06.838147Z",
          "shell.execute_reply.started": "2023-01-31T17:46:58.020569Z",
          "shell.execute_reply": "2023-01-31T17:47:06.835503Z"
        },
        "trusted": true,
        "id": "BahCISQdBMq2",
        "outputId": "44d916d1-34ce-4ab8-a130-7a9786b1defb",
        "colab": {
          "base_uri": "https://localhost:8080/",
          "height": 1000
        }
      },
      "execution_count": null,
      "outputs": [
        {
          "output_type": "error",
          "ename": "NameError",
          "evalue": "name 'df' is not defined",
          "traceback": [
            "\u001b[0;31m---------------------------------------------------------------------------\u001b[0m",
            "\u001b[0;31mNameError\u001b[0m                                 Traceback (most recent call last)",
            "\u001b[0;32m<ipython-input-17-90d149fa22b5>\u001b[0m in \u001b[0;36m<cell line: 3>\u001b[0;34m()\u001b[0m\n\u001b[1;32m      1\u001b[0m \u001b[0mn_samples\u001b[0m \u001b[0;34m=\u001b[0m \u001b[0;36m5\u001b[0m\u001b[0;34m\u001b[0m\u001b[0;34m\u001b[0m\u001b[0m\n\u001b[1;32m      2\u001b[0m \u001b[0mfig\u001b[0m\u001b[0;34m,\u001b[0m \u001b[0mm_axs\u001b[0m \u001b[0;34m=\u001b[0m \u001b[0mplt\u001b[0m\u001b[0;34m.\u001b[0m\u001b[0msubplots\u001b[0m\u001b[0;34m(\u001b[0m\u001b[0;36m7\u001b[0m\u001b[0;34m,\u001b[0m \u001b[0mn_samples\u001b[0m\u001b[0;34m,\u001b[0m \u001b[0mfigsize\u001b[0m \u001b[0;34m=\u001b[0m \u001b[0;34m(\u001b[0m\u001b[0;36m4\u001b[0m\u001b[0;34m*\u001b[0m\u001b[0mn_samples\u001b[0m\u001b[0;34m,\u001b[0m \u001b[0;36m3\u001b[0m\u001b[0;34m*\u001b[0m\u001b[0;36m7\u001b[0m\u001b[0;34m)\u001b[0m\u001b[0;34m)\u001b[0m\u001b[0;34m\u001b[0m\u001b[0;34m\u001b[0m\u001b[0m\n\u001b[0;32m----> 3\u001b[0;31m \u001b[0;32mfor\u001b[0m \u001b[0mn_axs\u001b[0m\u001b[0;34m,\u001b[0m \u001b[0;34m(\u001b[0m\u001b[0mtype_name\u001b[0m\u001b[0;34m,\u001b[0m \u001b[0mtype_rows\u001b[0m\u001b[0;34m)\u001b[0m \u001b[0;32min\u001b[0m \u001b[0mzip\u001b[0m\u001b[0;34m(\u001b[0m\u001b[0mm_axs\u001b[0m\u001b[0;34m,\u001b[0m \u001b[0mdf\u001b[0m\u001b[0;34m.\u001b[0m\u001b[0msort_values\u001b[0m\u001b[0;34m(\u001b[0m\u001b[0;34m[\u001b[0m\u001b[0;34m'cell_type'\u001b[0m\u001b[0;34m]\u001b[0m\u001b[0;34m)\u001b[0m\u001b[0;34m.\u001b[0m\u001b[0mgroupby\u001b[0m\u001b[0;34m(\u001b[0m\u001b[0;34m'cell_type'\u001b[0m\u001b[0;34m)\u001b[0m\u001b[0;34m)\u001b[0m\u001b[0;34m:\u001b[0m\u001b[0;34m\u001b[0m\u001b[0;34m\u001b[0m\u001b[0m\n\u001b[0m\u001b[1;32m      4\u001b[0m     \u001b[0mn_axs\u001b[0m\u001b[0;34m[\u001b[0m\u001b[0;36m0\u001b[0m\u001b[0;34m]\u001b[0m\u001b[0;34m.\u001b[0m\u001b[0mset_title\u001b[0m\u001b[0;34m(\u001b[0m\u001b[0mtype_name\u001b[0m\u001b[0;34m)\u001b[0m\u001b[0;34m\u001b[0m\u001b[0;34m\u001b[0m\u001b[0m\n\u001b[1;32m      5\u001b[0m     \u001b[0;32mfor\u001b[0m \u001b[0mc_ax\u001b[0m\u001b[0;34m,\u001b[0m \u001b[0;34m(\u001b[0m\u001b[0m_\u001b[0m\u001b[0;34m,\u001b[0m \u001b[0mc_row\u001b[0m\u001b[0;34m)\u001b[0m \u001b[0;32min\u001b[0m \u001b[0mzip\u001b[0m\u001b[0;34m(\u001b[0m\u001b[0mn_axs\u001b[0m\u001b[0;34m,\u001b[0m \u001b[0mtype_rows\u001b[0m\u001b[0;34m.\u001b[0m\u001b[0msample\u001b[0m\u001b[0;34m(\u001b[0m\u001b[0mn_samples\u001b[0m\u001b[0;34m,\u001b[0m \u001b[0mrandom_state\u001b[0m\u001b[0;34m=\u001b[0m\u001b[0;36m1234\u001b[0m\u001b[0;34m)\u001b[0m\u001b[0;34m.\u001b[0m\u001b[0miterrows\u001b[0m\u001b[0;34m(\u001b[0m\u001b[0;34m)\u001b[0m\u001b[0;34m)\u001b[0m\u001b[0;34m:\u001b[0m\u001b[0;34m\u001b[0m\u001b[0;34m\u001b[0m\u001b[0m\n",
            "\u001b[0;31mNameError\u001b[0m: name 'df' is not defined"
          ]
        },
        {
          "output_type": "display_data",
          "data": {
            "text/plain": [
              "<Figure size 2000x2100 with 35 Axes>"
            ],
            "image/png": "[encoded data removed]"
          },
          "metadata": {}
        }
      ]
    },
    {
      "cell_type": "markdown",
      "source": [
        "#### Comprobando la distribución del tamaño de la imagen."
      ],
      "metadata": {
        "id": "o-TPwCJlBMq2"
      }
    },
    {
      "cell_type": "code",
      "source": [
        "df['image'].map(lambda x: x.shape).value_counts()"
      ],
      "metadata": {
        "execution": {
          "iopub.status.busy": "2023-01-31T17:47:06.839747Z",
          "iopub.execute_input": "2023-01-31T17:47:06.84033Z",
          "iopub.status.idle": "2023-01-31T17:47:06.858504Z",
          "shell.execute_reply.started": "2023-01-31T17:47:06.840294Z",
          "shell.execute_reply": "2023-01-31T17:47:06.857135Z"
        },
        "trusted": true,
        "id": "mDl1MabIBMq3"
      },
      "execution_count": null,
      "outputs": []
    },
    {
      "cell_type": "markdown",
      "source": [
        "##Modelado de datos"
      ],
      "metadata": {
        "id": "Xghnye3vBMq3"
      }
    },
    {
      "cell_type": "markdown",
      "source": [
        "## Configuración de la variable objetivo"
      ],
      "metadata": {
        "id": "mQC0DpmABMq3"
      }
    },
    {
      "cell_type": "code",
      "source": [
        "features=df.drop(columns=['cell_type_idx'],axis=1)\n",
        "target=df['cell_type_idx']"
      ],
      "metadata": {
        "execution": {
          "iopub.status.busy": "2023-01-31T17:47:06.860166Z",
          "iopub.execute_input": "2023-01-31T17:47:06.860591Z",
          "iopub.status.idle": "2023-01-31T17:47:06.872957Z",
          "shell.execute_reply.started": "2023-01-31T17:47:06.860554Z",
          "shell.execute_reply": "2023-01-31T17:47:06.871488Z"
        },
        "trusted": true,
        "id": "YcsBy3-IBMq4"
      },
      "execution_count": null,
      "outputs": []
    },
    {
      "cell_type": "markdown",
      "source": [
        "## Dividir el conjunto de datos"
      ],
      "metadata": {
        "id": "ME_0knxPBMq4"
      }
    },
    {
      "cell_type": "code",
      "source": [
        "x_train_o, x_test_o, y_train_o, y_test_o = train_test_split(features, target, test_size=0.20,random_state=1234)"
      ],
      "metadata": {
        "execution": {
          "iopub.status.busy": "2023-01-31T17:47:06.874901Z",
          "iopub.execute_input": "2023-01-31T17:47:06.876283Z",
          "iopub.status.idle": "2023-01-31T17:47:06.89084Z",
          "shell.execute_reply.started": "2023-01-31T17:47:06.876195Z",
          "shell.execute_reply": "2023-01-31T17:47:06.889149Z"
        },
        "trusted": true,
        "id": "QJA_wm7QBMq4"
      },
      "execution_count": null,
      "outputs": []
    },
    {
      "cell_type": "markdown",
      "source": [
        "## Normalización de imágenes"
      ],
      "metadata": {
        "id": "MJLmkGgNBMq5"
      }
    },
    {
      "cell_type": "code",
      "source": [
        "x_train = np.asarray(x_train_o['image'].tolist())\n",
        "x_test = np.asarray(x_test_o['image'].tolist())\n",
        "\n",
        "x_train_mean = np.mean(x_train)\n",
        "x_train_std = np.std(x_train)\n",
        "\n",
        "x_test_mean = np.mean(x_test)\n",
        "x_test_std = np.std(x_test)\n",
        "\n",
        "x_train = (x_train - x_train_mean)/x_train_std\n",
        "x_test = (x_test - x_test_mean)/x_test_std"
      ],
      "metadata": {
        "execution": {
          "iopub.status.busy": "2023-01-31T17:47:06.89334Z",
          "iopub.execute_input": "2023-01-31T17:47:06.893774Z",
          "iopub.status.idle": "2023-01-31T17:47:10.865555Z",
          "shell.execute_reply.started": "2023-01-31T17:47:06.893737Z",
          "shell.execute_reply": "2023-01-31T17:47:10.863894Z"
        },
        "trusted": true,
        "id": "wCRpJkrkBMq6",
        "outputId": "61b37685-aac9-401a-c3ed-c7c1f1f90cec",
        "colab": {
          "base_uri": "https://localhost:8080/",
          "height": 237
        }
      },
      "execution_count": null,
      "outputs": [
        {
          "output_type": "error",
          "ename": "NameError",
          "evalue": "name 'x_train_o' is not defined",
          "traceback": [
            "\u001b[0;31m---------------------------------------------------------------------------\u001b[0m",
            "\u001b[0;31mNameError\u001b[0m                                 Traceback (most recent call last)",
            "\u001b[0;32m<ipython-input-18-3e0a4b09aa57>\u001b[0m in \u001b[0;36m<cell line: 1>\u001b[0;34m()\u001b[0m\n\u001b[0;32m----> 1\u001b[0;31m \u001b[0mx_train\u001b[0m \u001b[0;34m=\u001b[0m \u001b[0mnp\u001b[0m\u001b[0;34m.\u001b[0m\u001b[0masarray\u001b[0m\u001b[0;34m(\u001b[0m\u001b[0mx_train_o\u001b[0m\u001b[0;34m[\u001b[0m\u001b[0;34m'image'\u001b[0m\u001b[0;34m]\u001b[0m\u001b[0;34m.\u001b[0m\u001b[0mtolist\u001b[0m\u001b[0;34m(\u001b[0m\u001b[0;34m)\u001b[0m\u001b[0;34m)\u001b[0m\u001b[0;34m\u001b[0m\u001b[0;34m\u001b[0m\u001b[0m\n\u001b[0m\u001b[1;32m      2\u001b[0m \u001b[0mx_test\u001b[0m \u001b[0;34m=\u001b[0m \u001b[0mnp\u001b[0m\u001b[0;34m.\u001b[0m\u001b[0masarray\u001b[0m\u001b[0;34m(\u001b[0m\u001b[0mx_test_o\u001b[0m\u001b[0;34m[\u001b[0m\u001b[0;34m'image'\u001b[0m\u001b[0;34m]\u001b[0m\u001b[0;34m.\u001b[0m\u001b[0mtolist\u001b[0m\u001b[0;34m(\u001b[0m\u001b[0;34m)\u001b[0m\u001b[0;34m)\u001b[0m\u001b[0;34m\u001b[0m\u001b[0;34m\u001b[0m\u001b[0m\n\u001b[1;32m      3\u001b[0m \u001b[0;34m\u001b[0m\u001b[0m\n\u001b[1;32m      4\u001b[0m \u001b[0mx_train_mean\u001b[0m \u001b[0;34m=\u001b[0m \u001b[0mnp\u001b[0m\u001b[0;34m.\u001b[0m\u001b[0mmean\u001b[0m\u001b[0;34m(\u001b[0m\u001b[0mx_train\u001b[0m\u001b[0;34m)\u001b[0m\u001b[0;34m\u001b[0m\u001b[0;34m\u001b[0m\u001b[0m\n\u001b[1;32m      5\u001b[0m \u001b[0mx_train_std\u001b[0m \u001b[0;34m=\u001b[0m \u001b[0mnp\u001b[0m\u001b[0;34m.\u001b[0m\u001b[0mstd\u001b[0m\u001b[0;34m(\u001b[0m\u001b[0mx_train\u001b[0m\u001b[0;34m)\u001b[0m\u001b[0;34m\u001b[0m\u001b[0;34m\u001b[0m\u001b[0m\n",
            "\u001b[0;31mNameError\u001b[0m: name 'x_train_o' is not defined"
          ]
        }
      ]
    },
    {
      "cell_type": "markdown",
      "source": [
        "## Una codificación activa en etiquetas"
      ],
      "metadata": {
        "id": "AZNqYo4UBMq6"
      }
    },
    {
      "cell_type": "code",
      "source": [
        "y_train = to_categorical(y_train_o, num_classes = 7)\n",
        "y_test = to_categorical(y_test_o, num_classes = 7)"
      ],
      "metadata": {
        "execution": {
          "iopub.status.busy": "2023-01-31T17:47:10.867674Z",
          "iopub.execute_input": "2023-01-31T17:47:10.868225Z",
          "iopub.status.idle": "2023-01-31T17:47:10.87626Z",
          "shell.execute_reply.started": "2023-01-31T17:47:10.868174Z",
          "shell.execute_reply": "2023-01-31T17:47:10.874771Z"
        },
        "trusted": true,
        "id": "sukha6fYBMq6"
      },
      "execution_count": null,
      "outputs": []
    },
    {
      "cell_type": "markdown",
      "source": [
        "## Dividir en conjunto de entrenamiento y validación"
      ],
      "metadata": {
        "id": "j2JcYynYBMq6"
      }
    },
    {
      "cell_type": "code",
      "source": [
        "x_train, x_validate, y_train, y_validate = train_test_split(x_train, y_train, test_size = 0.1, random_state = 2)"
      ],
      "metadata": {
        "execution": {
          "iopub.status.busy": "2023-01-31T17:47:10.878512Z",
          "iopub.execute_input": "2023-01-31T17:47:10.879177Z",
          "iopub.status.idle": "2023-01-31T17:47:12.493169Z",
          "shell.execute_reply.started": "2023-01-31T17:47:10.87899Z",
          "shell.execute_reply": "2023-01-31T17:47:12.491231Z"
        },
        "trusted": true,
        "id": "ckNdUi9TBMq7"
      },
      "execution_count": null,
      "outputs": []
    },
    {
      "cell_type": "code",
      "source": [
        "# Reshape image in 3 dimensions (height = 75px, width = 100px , canal = 3)\n",
        "x_train = x_train.reshape(x_train.shape[0], *(75, 100, 3))\n",
        "x_test = x_test.reshape(x_test.shape[0], *(75, 100, 3))\n",
        "x_validate = x_validate.reshape(x_validate.shape[0], *(75, 100, 3))"
      ],
      "metadata": {
        "execution": {
          "iopub.status.busy": "2023-01-31T17:47:12.495744Z",
          "iopub.execute_input": "2023-01-31T17:47:12.496339Z",
          "iopub.status.idle": "2023-01-31T17:47:12.504979Z",
          "shell.execute_reply.started": "2023-01-31T17:47:12.49628Z",
          "shell.execute_reply": "2023-01-31T17:47:12.503506Z"
        },
        "trusted": true,
        "id": "sOnuJaSBBMq7",
        "outputId": "a41e244c-5c97-4048-ff80-1909e8b70e1b",
        "colab": {
          "base_uri": "https://localhost:8080/",
          "height": 219
        }
      },
      "execution_count": null,
      "outputs": [
        {
          "output_type": "error",
          "ename": "NameError",
          "evalue": "name 'x_train' is not defined",
          "traceback": [
            "\u001b[0;31m---------------------------------------------------------------------------\u001b[0m",
            "\u001b[0;31mNameError\u001b[0m                                 Traceback (most recent call last)",
            "\u001b[0;32m<ipython-input-19-d026c052b1ca>\u001b[0m in \u001b[0;36m<cell line: 2>\u001b[0;34m()\u001b[0m\n\u001b[1;32m      1\u001b[0m \u001b[0;31m# Reshape image in 3 dimensions (height = 75px, width = 100px , canal = 3)\u001b[0m\u001b[0;34m\u001b[0m\u001b[0;34m\u001b[0m\u001b[0m\n\u001b[0;32m----> 2\u001b[0;31m \u001b[0mx_train\u001b[0m \u001b[0;34m=\u001b[0m \u001b[0mx_train\u001b[0m\u001b[0;34m.\u001b[0m\u001b[0mreshape\u001b[0m\u001b[0;34m(\u001b[0m\u001b[0mx_train\u001b[0m\u001b[0;34m.\u001b[0m\u001b[0mshape\u001b[0m\u001b[0;34m[\u001b[0m\u001b[0;36m0\u001b[0m\u001b[0;34m]\u001b[0m\u001b[0;34m,\u001b[0m \u001b[0;34m*\u001b[0m\u001b[0;34m(\u001b[0m\u001b[0;36m75\u001b[0m\u001b[0;34m,\u001b[0m \u001b[0;36m100\u001b[0m\u001b[0;34m,\u001b[0m \u001b[0;36m3\u001b[0m\u001b[0;34m)\u001b[0m\u001b[0;34m)\u001b[0m\u001b[0;34m\u001b[0m\u001b[0;34m\u001b[0m\u001b[0m\n\u001b[0m\u001b[1;32m      3\u001b[0m \u001b[0mx_test\u001b[0m \u001b[0;34m=\u001b[0m \u001b[0mx_test\u001b[0m\u001b[0;34m.\u001b[0m\u001b[0mreshape\u001b[0m\u001b[0;34m(\u001b[0m\u001b[0mx_test\u001b[0m\u001b[0;34m.\u001b[0m\u001b[0mshape\u001b[0m\u001b[0;34m[\u001b[0m\u001b[0;36m0\u001b[0m\u001b[0;34m]\u001b[0m\u001b[0;34m,\u001b[0m \u001b[0;34m*\u001b[0m\u001b[0;34m(\u001b[0m\u001b[0;36m75\u001b[0m\u001b[0;34m,\u001b[0m \u001b[0;36m100\u001b[0m\u001b[0;34m,\u001b[0m \u001b[0;36m3\u001b[0m\u001b[0;34m)\u001b[0m\u001b[0;34m)\u001b[0m\u001b[0;34m\u001b[0m\u001b[0;34m\u001b[0m\u001b[0m\n\u001b[1;32m      4\u001b[0m \u001b[0mx_validate\u001b[0m \u001b[0;34m=\u001b[0m \u001b[0mx_validate\u001b[0m\u001b[0;34m.\u001b[0m\u001b[0mreshape\u001b[0m\u001b[0;34m(\u001b[0m\u001b[0mx_validate\u001b[0m\u001b[0;34m.\u001b[0m\u001b[0mshape\u001b[0m\u001b[0;34m[\u001b[0m\u001b[0;36m0\u001b[0m\u001b[0;34m]\u001b[0m\u001b[0;34m,\u001b[0m \u001b[0;34m*\u001b[0m\u001b[0;34m(\u001b[0m\u001b[0;36m75\u001b[0m\u001b[0;34m,\u001b[0m \u001b[0;36m100\u001b[0m\u001b[0;34m,\u001b[0m \u001b[0;36m3\u001b[0m\u001b[0;34m)\u001b[0m\u001b[0;34m)\u001b[0m\u001b[0;34m\u001b[0m\u001b[0;34m\u001b[0m\u001b[0m\n",
            "\u001b[0;31mNameError\u001b[0m: name 'x_train' is not defined"
          ]
        }
      ]
    },
    {
      "cell_type": "markdown",
      "source": [
        "## Configuración del modelo CNN"
      ],
      "metadata": {
        "id": "XAdbL4NYBMq7"
      }
    },
    {
      "cell_type": "code",
      "source": [
        "# my CNN architechture is In -> [[Conv2D->relu]*2 -> MaxPool2D -> Dropout]*2 -> Flatten -> Dense -> Dropout -> Out\n",
        "input_shape = (75, 100, 3)\n",
        "num_classes = 7\n",
        "\n",
        "model = Sequential()\n",
        "model.add(Conv2D(32, kernel_size=(3, 3),activation='relu',padding = 'Same',input_shape=input_shape))\n",
        "model.add(Conv2D(32,kernel_size=(3, 3), activation='relu',padding = 'Same',))\n",
        "model.add(MaxPool2D(pool_size = (2, 2)))\n",
        "model.add(Dropout(0.25))\n",
        "\n",
        "model.add(Conv2D(64, (3, 3), activation='relu',padding = 'Same'))\n",
        "model.add(Conv2D(64, (3, 3), activation='relu',padding = 'Same'))\n",
        "model.add(MaxPool2D(pool_size=(2, 2)))\n",
        "model.add(Dropout(0.40))\n",
        "\n",
        "model.add(Flatten())\n",
        "model.add(Dense(128, activation='relu'))\n",
        "model.add(Dropout(0.5))\n",
        "model.add(Dense(num_classes, activation='softmax'))\n",
        "model.summary()\n"
      ],
      "metadata": {
        "execution": {
          "iopub.status.busy": "2023-01-31T17:47:12.507394Z",
          "iopub.execute_input": "2023-01-31T17:47:12.507823Z",
          "iopub.status.idle": "2023-01-31T17:47:12.682437Z",
          "shell.execute_reply.started": "2023-01-31T17:47:12.507768Z",
          "shell.execute_reply": "2023-01-31T17:47:12.681208Z"
        },
        "trusted": true,
        "id": "lelDLNA0BMq7",
        "outputId": "ffcea93d-76cb-4ea4-d94d-a963dfe14d10",
        "colab": {
          "base_uri": "https://localhost:8080/",
          "height": 577
        }
      },
      "execution_count": null,
      "outputs": [
        {
          "output_type": "stream",
          "name": "stderr",
          "text": [
            "/usr/local/lib/python3.10/dist-packages/keras/src/layers/convolutional/base_conv.py:107: UserWarning: Do not pass an `input_shape`/`input_dim` argument to a layer. When using Sequential models, prefer using an `Input(shape)` object as the first layer in the model instead.\n",
            "  super().__init__(activity_regularizer=activity_regularizer, **kwargs)\n"
          ]
        },
        {
          "output_type": "display_data",
          "data": {
            "text/plain": [
              "\u001b[1mModel: \"sequential\"\u001b[0m\n"
            ],
            "text/html": [
              "<pre style=\"white-space:pre;overflow-x:auto;line-height:normal;font-family:Menlo,'DejaVu Sans Mono',consolas,'Courier New',monospace\"><span style=\"font-weight: bold\">Model: \"sequential\"</span>\n",
              "</pre>\n"
            ]
          },
          "metadata": {}
        },
        {
          "output_type": "display_data",
          "data": {
            "text/plain": [
              "┏━━━━━━━━━━━━━━━━━━━━━━━━━━━━━━━━━━━━━━┳━━━━━━━━━━━━━━━━━━━━━━━━━━━━━┳━━━━━━━━━━━━━━━━━┓\n",
              "┃\u001b[1m \u001b[0m\u001b[1mLayer (type)                        \u001b[0m\u001b[1m \u001b[0m┃\u001b[1m \u001b[0m\u001b[1mOutput Shape               \u001b[0m\u001b[1m \u001b[0m┃\u001b[1m \u001b[0m\u001b[1m        Param #\u001b[0m\u001b[1m \u001b[0m┃\n",
              "┡━━━━━━━━━━━━━━━━━━━━━━━━━━━━━━━━━━━━━━╇━━━━━━━━━━━━━━━━━━━━━━━━━━━━━╇━━━━━━━━━━━━━━━━━┩\n",
              "│ conv2d (\u001b[38;5;33mConv2D\u001b[0m)                      │ (\u001b[38;5;45mNone\u001b[0m, \u001b[38;5;34m75\u001b[0m, \u001b[38;5;34m100\u001b[0m, \u001b[38;5;34m32\u001b[0m)         │             \u001b[38;5;34m896\u001b[0m │\n",
              "├──────────────────────────────────────┼─────────────────────────────┼─────────────────┤\n",
              "│ conv2d_1 (\u001b[38;5;33mConv2D\u001b[0m)                    │ (\u001b[38;5;45mNone\u001b[0m, \u001b[38;5;34m75\u001b[0m, \u001b[38;5;34m100\u001b[0m, \u001b[38;5;34m32\u001b[0m)         │           \u001b[38;5;34m9,248\u001b[0m │\n",
              "├──────────────────────────────────────┼─────────────────────────────┼─────────────────┤\n",
              "│ max_pooling2d (\u001b[38;5;33mMaxPooling2D\u001b[0m)         │ (\u001b[38;5;45mNone\u001b[0m, \u001b[38;5;34m37\u001b[0m, \u001b[38;5;34m50\u001b[0m, \u001b[38;5;34m32\u001b[0m)          │               \u001b[38;5;34m0\u001b[0m │\n",
              "├──────────────────────────────────────┼─────────────────────────────┼─────────────────┤\n",
              "│ dropout (\u001b[38;5;33mDropout\u001b[0m)                    │ (\u001b[38;5;45mNone\u001b[0m, \u001b[38;5;34m37\u001b[0m, \u001b[38;5;34m50\u001b[0m, \u001b[38;5;34m32\u001b[0m)          │               \u001b[38;5;34m0\u001b[0m │\n",
              "├──────────────────────────────────────┼─────────────────────────────┼─────────────────┤\n",
              "│ conv2d_2 (\u001b[38;5;33mConv2D\u001b[0m)                    │ (\u001b[38;5;45mNone\u001b[0m, \u001b[38;5;34m37\u001b[0m, \u001b[38;5;34m50\u001b[0m, \u001b[38;5;34m64\u001b[0m)          │          \u001b[38;5;34m18,496\u001b[0m │\n",
              "├──────────────────────────────────────┼─────────────────────────────┼─────────────────┤\n",
              "│ conv2d_3 (\u001b[38;5;33mConv2D\u001b[0m)                    │ (\u001b[38;5;45mNone\u001b[0m, \u001b[38;5;34m37\u001b[0m, \u001b[38;5;34m50\u001b[0m, \u001b[38;5;34m64\u001b[0m)          │          \u001b[38;5;34m36,928\u001b[0m │\n",
              "├──────────────────────────────────────┼─────────────────────────────┼─────────────────┤\n",
              "│ max_pooling2d_1 (\u001b[38;5;33mMaxPooling2D\u001b[0m)       │ (\u001b[38;5;45mNone\u001b[0m, \u001b[38;5;34m18\u001b[0m, \u001b[38;5;34m25\u001b[0m, \u001b[38;5;34m64\u001b[0m)          │               \u001b[38;5;34m0\u001b[0m │\n",
              "├──────────────────────────────────────┼─────────────────────────────┼─────────────────┤\n",
              "│ dropout_1 (\u001b[38;5;33mDropout\u001b[0m)                  │ (\u001b[38;5;45mNone\u001b[0m, \u001b[38;5;34m18\u001b[0m, \u001b[38;5;34m25\u001b[0m, \u001b[38;5;34m64\u001b[0m)          │               \u001b[38;5;34m0\u001b[0m │\n",
              "├──────────────────────────────────────┼─────────────────────────────┼─────────────────┤\n",
              "│ flatten (\u001b[38;5;33mFlatten\u001b[0m)                    │ (\u001b[38;5;45mNone\u001b[0m, \u001b[38;5;34m28800\u001b[0m)               │               \u001b[38;5;34m0\u001b[0m │\n",
              "├──────────────────────────────────────┼─────────────────────────────┼─────────────────┤\n",
              "│ dense (\u001b[38;5;33mDense\u001b[0m)                        │ (\u001b[38;5;45mNone\u001b[0m, \u001b[38;5;34m128\u001b[0m)                 │       \u001b[38;5;34m3,686,528\u001b[0m │\n",
              "├──────────────────────────────────────┼─────────────────────────────┼─────────────────┤\n",
              "│ dropout_2 (\u001b[38;5;33mDropout\u001b[0m)                  │ (\u001b[38;5;45mNone\u001b[0m, \u001b[38;5;34m128\u001b[0m)                 │               \u001b[38;5;34m0\u001b[0m │\n",
              "├──────────────────────────────────────┼─────────────────────────────┼─────────────────┤\n",
              "│ dense_1 (\u001b[38;5;33mDense\u001b[0m)                      │ (\u001b[38;5;45mNone\u001b[0m, \u001b[38;5;34m7\u001b[0m)                   │             \u001b[38;5;34m903\u001b[0m │\n",
              "└──────────────────────────────────────┴─────────────────────────────┴─────────────────┘\n"
            ],
            "text/html": [
              "<pre style=\"white-space:pre;overflow-x:auto;line-height:normal;font-family:Menlo,'DejaVu Sans Mono',consolas,'Courier New',monospace\">┏━━━━━━━━━━━━━━━━━━━━━━━━━━━━━━━━━━━━━━┳━━━━━━━━━━━━━━━━━━━━━━━━━━━━━┳━━━━━━━━━━━━━━━━━┓\n",
              "┃<span style=\"font-weight: bold\"> Layer (type)                         </span>┃<span style=\"font-weight: bold\"> Output Shape                </span>┃<span style=\"font-weight: bold\">         Param # </span>┃\n",
              "┡━━━━━━━━━━━━━━━━━━━━━━━━━━━━━━━━━━━━━━╇━━━━━━━━━━━━━━━━━━━━━━━━━━━━━╇━━━━━━━━━━━━━━━━━┩\n",
              "│ conv2d (<span style=\"color: #0087ff; text-decoration-color: #0087ff\">Conv2D</span>)                      │ (<span style=\"color: #00d7ff; text-decoration-color: #00d7ff\">None</span>, <span style=\"color: #00af00; text-decoration-color: #00af00\">75</span>, <span style=\"color: #00af00; text-decoration-color: #00af00\">100</span>, <span style=\"color: #00af00; text-decoration-color: #00af00\">32</span>)         │             <span style=\"color: #00af00; text-decoration-color: #00af00\">896</span> │\n",
              "├──────────────────────────────────────┼─────────────────────────────┼─────────────────┤\n",
              "│ conv2d_1 (<span style=\"color: #0087ff; text-decoration-color: #0087ff\">Conv2D</span>)                    │ (<span style=\"color: #00d7ff; text-decoration-color: #00d7ff\">None</span>, <span style=\"color: #00af00; text-decoration-color: #00af00\">75</span>, <span style=\"color: #00af00; text-decoration-color: #00af00\">100</span>, <span style=\"color: #00af00; text-decoration-color: #00af00\">32</span>)         │           <span style=\"color: #00af00; text-decoration-color: #00af00\">9,248</span> │\n",
              "├──────────────────────────────────────┼─────────────────────────────┼─────────────────┤\n",
              "│ max_pooling2d (<span style=\"color: #0087ff; text-decoration-color: #0087ff\">MaxPooling2D</span>)         │ (<span style=\"color: #00d7ff; text-decoration-color: #00d7ff\">None</span>, <span style=\"color: #00af00; text-decoration-color: #00af00\">37</span>, <span style=\"color: #00af00; text-decoration-color: #00af00\">50</span>, <span style=\"color: #00af00; text-decoration-color: #00af00\">32</span>)          │               <span style=\"color: #00af00; text-decoration-color: #00af00\">0</span> │\n",
              "├──────────────────────────────────────┼─────────────────────────────┼─────────────────┤\n",
              "│ dropout (<span style=\"color: #0087ff; text-decoration-color: #0087ff\">Dropout</span>)                    │ (<span style=\"color: #00d7ff; text-decoration-color: #00d7ff\">None</span>, <span style=\"color: #00af00; text-decoration-color: #00af00\">37</span>, <span style=\"color: #00af00; text-decoration-color: #00af00\">50</span>, <span style=\"color: #00af00; text-decoration-color: #00af00\">32</span>)          │               <span style=\"color: #00af00; text-decoration-color: #00af00\">0</span> │\n",
              "├──────────────────────────────────────┼─────────────────────────────┼─────────────────┤\n",
              "│ conv2d_2 (<span style=\"color: #0087ff; text-decoration-color: #0087ff\">Conv2D</span>)                    │ (<span style=\"color: #00d7ff; text-decoration-color: #00d7ff\">None</span>, <span style=\"color: #00af00; text-decoration-color: #00af00\">37</span>, <span style=\"color: #00af00; text-decoration-color: #00af00\">50</span>, <span style=\"color: #00af00; text-decoration-color: #00af00\">64</span>)          │          <span style=\"color: #00af00; text-decoration-color: #00af00\">18,496</span> │\n",
              "├──────────────────────────────────────┼─────────────────────────────┼─────────────────┤\n",
              "│ conv2d_3 (<span style=\"color: #0087ff; text-decoration-color: #0087ff\">Conv2D</span>)                    │ (<span style=\"color: #00d7ff; text-decoration-color: #00d7ff\">None</span>, <span style=\"color: #00af00; text-decoration-color: #00af00\">37</span>, <span style=\"color: #00af00; text-decoration-color: #00af00\">50</span>, <span style=\"color: #00af00; text-decoration-color: #00af00\">64</span>)          │          <span style=\"color: #00af00; text-decoration-color: #00af00\">36,928</span> │\n",
              "├──────────────────────────────────────┼─────────────────────────────┼─────────────────┤\n",
              "│ max_pooling2d_1 (<span style=\"color: #0087ff; text-decoration-color: #0087ff\">MaxPooling2D</span>)       │ (<span style=\"color: #00d7ff; text-decoration-color: #00d7ff\">None</span>, <span style=\"color: #00af00; text-decoration-color: #00af00\">18</span>, <span style=\"color: #00af00; text-decoration-color: #00af00\">25</span>, <span style=\"color: #00af00; text-decoration-color: #00af00\">64</span>)          │               <span style=\"color: #00af00; text-decoration-color: #00af00\">0</span> │\n",
              "├──────────────────────────────────────┼─────────────────────────────┼─────────────────┤\n",
              "│ dropout_1 (<span style=\"color: #0087ff; text-decoration-color: #0087ff\">Dropout</span>)                  │ (<span style=\"color: #00d7ff; text-decoration-color: #00d7ff\">None</span>, <span style=\"color: #00af00; text-decoration-color: #00af00\">18</span>, <span style=\"color: #00af00; text-decoration-color: #00af00\">25</span>, <span style=\"color: #00af00; text-decoration-color: #00af00\">64</span>)          │               <span style=\"color: #00af00; text-decoration-color: #00af00\">0</span> │\n",
              "├──────────────────────────────────────┼─────────────────────────────┼─────────────────┤\n",
              "│ flatten (<span style=\"color: #0087ff; text-decoration-color: #0087ff\">Flatten</span>)                    │ (<span style=\"color: #00d7ff; text-decoration-color: #00d7ff\">None</span>, <span style=\"color: #00af00; text-decoration-color: #00af00\">28800</span>)               │               <span style=\"color: #00af00; text-decoration-color: #00af00\">0</span> │\n",
              "├──────────────────────────────────────┼─────────────────────────────┼─────────────────┤\n",
              "│ dense (<span style=\"color: #0087ff; text-decoration-color: #0087ff\">Dense</span>)                        │ (<span style=\"color: #00d7ff; text-decoration-color: #00d7ff\">None</span>, <span style=\"color: #00af00; text-decoration-color: #00af00\">128</span>)                 │       <span style=\"color: #00af00; text-decoration-color: #00af00\">3,686,528</span> │\n",
              "├──────────────────────────────────────┼─────────────────────────────┼─────────────────┤\n",
              "│ dropout_2 (<span style=\"color: #0087ff; text-decoration-color: #0087ff\">Dropout</span>)                  │ (<span style=\"color: #00d7ff; text-decoration-color: #00d7ff\">None</span>, <span style=\"color: #00af00; text-decoration-color: #00af00\">128</span>)                 │               <span style=\"color: #00af00; text-decoration-color: #00af00\">0</span> │\n",
              "├──────────────────────────────────────┼─────────────────────────────┼─────────────────┤\n",
              "│ dense_1 (<span style=\"color: #0087ff; text-decoration-color: #0087ff\">Dense</span>)                      │ (<span style=\"color: #00d7ff; text-decoration-color: #00d7ff\">None</span>, <span style=\"color: #00af00; text-decoration-color: #00af00\">7</span>)                   │             <span style=\"color: #00af00; text-decoration-color: #00af00\">903</span> │\n",
              "└──────────────────────────────────────┴─────────────────────────────┴─────────────────┘\n",
              "</pre>\n"
            ]
          },
          "metadata": {}
        },
        {
          "output_type": "display_data",
          "data": {
            "text/plain": [
              "\u001b[1m Total params: \u001b[0m\u001b[38;5;34m3,752,999\u001b[0m (14.32 MB)\n"
            ],
            "text/html": [
              "<pre style=\"white-space:pre;overflow-x:auto;line-height:normal;font-family:Menlo,'DejaVu Sans Mono',consolas,'Courier New',monospace\"><span style=\"font-weight: bold\"> Total params: </span><span style=\"color: #00af00; text-decoration-color: #00af00\">3,752,999</span> (14.32 MB)\n",
              "</pre>\n"
            ]
          },
          "metadata": {}
        },
        {
          "output_type": "display_data",
          "data": {
            "text/plain": [
              "\u001b[1m Trainable params: \u001b[0m\u001b[38;5;34m3,752,999\u001b[0m (14.32 MB)\n"
            ],
            "text/html": [
              "<pre style=\"white-space:pre;overflow-x:auto;line-height:normal;font-family:Menlo,'DejaVu Sans Mono',consolas,'Courier New',monospace\"><span style=\"font-weight: bold\"> Trainable params: </span><span style=\"color: #00af00; text-decoration-color: #00af00\">3,752,999</span> (14.32 MB)\n",
              "</pre>\n"
            ]
          },
          "metadata": {}
        },
        {
          "output_type": "display_data",
          "data": {
            "text/plain": [
              "\u001b[1m Non-trainable params: \u001b[0m\u001b[38;5;34m0\u001b[0m (0.00 B)\n"
            ],
            "text/html": [
              "<pre style=\"white-space:pre;overflow-x:auto;line-height:normal;font-family:Menlo,'DejaVu Sans Mono',consolas,'Courier New',monospace\"><span style=\"font-weight: bold\"> Non-trainable params: </span><span style=\"color: #00af00; text-decoration-color: #00af00\">0</span> (0.00 B)\n",
              "</pre>\n"
            ]
          },
          "metadata": {}
        }
      ]
    },
    {
      "cell_type": "code",
      "source": [
        "# Define the optimizer\n",
        "optimizer = Adam(lr=0.001, beta_1=0.9, beta_2=0.999, epsilon=None, decay=0.0, amsgrad=False)\n",
        "\n",
        "# Compile the model\n",
        "model.compile(optimizer = optimizer , loss = \"categorical_crossentropy\", metrics=[\"accuracy\"])\n",
        "\n",
        "# Set a learning rate annealer\n",
        "learning_rate_reduction = ReduceLROnPlateau(monitor='val_acc',\n",
        "                                            patience=3,\n",
        "                                            verbose=1,\n",
        "                                            factor=0.5,\n",
        "                                            learning_rate=0.00001)"
      ],
      "metadata": {
        "execution": {
          "iopub.status.busy": "2023-01-31T17:47:12.683995Z",
          "iopub.execute_input": "2023-01-31T17:47:12.684423Z",
          "iopub.status.idle": "2023-01-31T17:47:12.712851Z",
          "shell.execute_reply.started": "2023-01-31T17:47:12.684359Z",
          "shell.execute_reply": "2023-01-31T17:47:12.710761Z"
        },
        "trusted": true,
        "id": "2858wB-_BMq8"
      },
      "execution_count": null,
      "outputs": []
    },
    {
      "cell_type": "markdown",
      "source": [
        "### Aumento de datos para evitar el sobreajuste"
      ],
      "metadata": {
        "id": "oD1tZtFjBMq8"
      }
    },
    {
      "cell_type": "code",
      "source": [
        "datagen = ImageDataGenerator(\n",
        "        featurewise_center=False,  # set input mean to 0 over the dataset\n",
        "        samplewise_center=False,  # set each sample mean to 0\n",
        "        featurewise_std_normalization=False,  # divide inputs by std of the dataset\n",
        "        samplewise_std_normalization=False,  # divide each input by its std\n",
        "        zca_whitening=False,  # apply ZCA whitening\n",
        "        rotation_range=10,  # randomly rotate images in the range (degrees, 0 to 180)\n",
        "        zoom_range = 0.1, # Randomly zoom image\n",
        "        width_shift_range=0.1,  # randomly shift images horizontally (fraction of total width)\n",
        "        height_shift_range=0.1,  # randomly shift images vertically (fraction of total height)\n",
        "        horizontal_flip=False,  # randomly flip images\n",
        "        vertical_flip=False)  # randomly flip images\n",
        "\n",
        "datagen.fit(x_train)"
      ],
      "metadata": {
        "execution": {
          "iopub.status.busy": "2023-01-31T17:47:12.715584Z",
          "iopub.execute_input": "2023-01-31T17:47:12.716156Z",
          "iopub.status.idle": "2023-01-31T17:47:13.611515Z",
          "shell.execute_reply.started": "2023-01-31T17:47:12.716104Z",
          "shell.execute_reply": "2023-01-31T17:47:13.609928Z"
        },
        "trusted": true,
        "id": "POJDsmBOBMq8",
        "outputId": "a45c1786-37f3-4c6e-c081-071f8eb915c2",
        "colab": {
          "base_uri": "https://localhost:8080/",
          "height": 201
        }
      },
      "execution_count": null,
      "outputs": [
        {
          "output_type": "error",
          "ename": "NameError",
          "evalue": "name 'x_train' is not defined",
          "traceback": [
            "\u001b[0;31m---------------------------------------------------------------------------\u001b[0m",
            "\u001b[0;31mNameError\u001b[0m                                 Traceback (most recent call last)",
            "\u001b[0;32m<ipython-input-21-953c5c45829c>\u001b[0m in \u001b[0;36m<cell line: 14>\u001b[0;34m()\u001b[0m\n\u001b[1;32m     12\u001b[0m         vertical_flip=False)  # randomly flip images\n\u001b[1;32m     13\u001b[0m \u001b[0;34m\u001b[0m\u001b[0m\n\u001b[0;32m---> 14\u001b[0;31m \u001b[0mdatagen\u001b[0m\u001b[0;34m.\u001b[0m\u001b[0mfit\u001b[0m\u001b[0;34m(\u001b[0m\u001b[0mx_train\u001b[0m\u001b[0;34m)\u001b[0m\u001b[0;34m\u001b[0m\u001b[0;34m\u001b[0m\u001b[0m\n\u001b[0m",
            "\u001b[0;31mNameError\u001b[0m: name 'x_train' is not defined"
          ]
        }
      ]
    },
    {
      "cell_type": "markdown",
      "source": [
        "### Ajuste del modelo"
      ],
      "metadata": {
        "id": "OKvNHZleBMq9"
      }
    },
    {
      "cell_type": "code",
      "source": [
        "epochs = 50\n",
        "batch_size = 10\n",
        "history = model.fit_generator(datagen.flow(x_train,y_train, batch_size=batch_size),\n",
        "                              epochs = epochs, validation_data = (x_validate,y_validate),\n",
        "                              verbose = 1, steps_per_epoch=x_train.shape[0] // batch_size\n",
        "                              , callbacks=[learning_rate_reduction])"
      ],
      "metadata": {
        "execution": {
          "iopub.status.busy": "2023-01-31T17:47:13.613531Z",
          "iopub.execute_input": "2023-01-31T17:47:13.614108Z",
          "iopub.status.idle": "2023-01-31T19:42:13.689603Z",
          "shell.execute_reply.started": "2023-01-31T17:47:13.614053Z",
          "shell.execute_reply": "2023-01-31T19:42:13.687348Z"
        },
        "trusted": true,
        "id": "uhiU94hpBMq9",
        "outputId": "6997dc89-d2b0-4013-ec00-e9b1d13fd2ba",
        "colab": {
          "base_uri": "https://localhost:8080/",
          "height": 237
        }
      },
      "execution_count": null,
      "outputs": [
        {
          "output_type": "error",
          "ename": "AttributeError",
          "evalue": "'Sequential' object has no attribute 'fit_generator'",
          "traceback": [
            "\u001b[0;31m---------------------------------------------------------------------------\u001b[0m",
            "\u001b[0;31mAttributeError\u001b[0m                            Traceback (most recent call last)",
            "\u001b[0;32m<ipython-input-22-caac8b4deb6f>\u001b[0m in \u001b[0;36m<cell line: 3>\u001b[0;34m()\u001b[0m\n\u001b[1;32m      1\u001b[0m \u001b[0mepochs\u001b[0m \u001b[0;34m=\u001b[0m \u001b[0;36m50\u001b[0m\u001b[0;34m\u001b[0m\u001b[0;34m\u001b[0m\u001b[0m\n\u001b[1;32m      2\u001b[0m \u001b[0mbatch_size\u001b[0m \u001b[0;34m=\u001b[0m \u001b[0;36m10\u001b[0m\u001b[0;34m\u001b[0m\u001b[0;34m\u001b[0m\u001b[0m\n\u001b[0;32m----> 3\u001b[0;31m history = model.fit_generator(datagen.flow(x_train,y_train, batch_size=batch_size),\n\u001b[0m\u001b[1;32m      4\u001b[0m                               \u001b[0mepochs\u001b[0m \u001b[0;34m=\u001b[0m \u001b[0mepochs\u001b[0m\u001b[0;34m,\u001b[0m \u001b[0mvalidation_data\u001b[0m \u001b[0;34m=\u001b[0m \u001b[0;34m(\u001b[0m\u001b[0mx_validate\u001b[0m\u001b[0;34m,\u001b[0m\u001b[0my_validate\u001b[0m\u001b[0;34m)\u001b[0m\u001b[0;34m,\u001b[0m\u001b[0;34m\u001b[0m\u001b[0;34m\u001b[0m\u001b[0m\n\u001b[1;32m      5\u001b[0m                               \u001b[0mverbose\u001b[0m \u001b[0;34m=\u001b[0m \u001b[0;36m1\u001b[0m\u001b[0;34m,\u001b[0m \u001b[0msteps_per_epoch\u001b[0m\u001b[0;34m=\u001b[0m\u001b[0mx_train\u001b[0m\u001b[0;34m.\u001b[0m\u001b[0mshape\u001b[0m\u001b[0;34m[\u001b[0m\u001b[0;36m0\u001b[0m\u001b[0;34m]\u001b[0m \u001b[0;34m//\u001b[0m \u001b[0mbatch_size\u001b[0m\u001b[0;34m\u001b[0m\u001b[0;34m\u001b[0m\u001b[0m\n",
            "\u001b[0;31mAttributeError\u001b[0m: 'Sequential' object has no attribute 'fit_generator'"
          ]
        }
      ]
    },
    {
      "cell_type": "code",
      "source": [
        "plot_model(model, to_file='model_plot.png', show_shapes=True, show_layer_names=True)"
      ],
      "metadata": {
        "execution": {
          "iopub.status.busy": "2023-01-31T19:42:13.69629Z",
          "iopub.execute_input": "2023-01-31T19:42:13.6986Z",
          "iopub.status.idle": "2023-01-31T19:42:14.009759Z",
          "shell.execute_reply.started": "2023-01-31T19:42:13.698537Z",
          "shell.execute_reply": "2023-01-31T19:42:14.008132Z"
        },
        "trusted": true,
        "id": "xk9UBfxSBMq9"
      },
      "execution_count": null,
      "outputs": []
    },
    {
      "cell_type": "markdown",
      "source": [
        "# Precisión del modelo"
      ],
      "metadata": {
        "id": "fHcgNJghBMq9"
      }
    },
    {
      "cell_type": "code",
      "source": [
        "loss, accuracy = model.evaluate(x_test, y_test, verbose=1)\n",
        "loss_v, accuracy_v = model.evaluate(x_validate, y_validate, verbose=1)\n",
        "print(\"Validation: accuracy = %f  ;  loss_v = %f\" % (accuracy_v, loss_v))\n",
        "print(\"Test: accuracy = %f  ;  loss = %f\" % (accuracy, loss))\n",
        "model.save(\"model.h5\")"
      ],
      "metadata": {
        "execution": {
          "iopub.status.busy": "2023-01-31T19:42:14.012153Z",
          "iopub.execute_input": "2023-01-31T19:42:14.012669Z",
          "iopub.status.idle": "2023-01-31T19:42:24.80007Z",
          "shell.execute_reply.started": "2023-01-31T19:42:14.01262Z",
          "shell.execute_reply": "2023-01-31T19:42:24.798607Z"
        },
        "trusted": true,
        "id": "GXl2gksRBMq9",
        "outputId": "9eab6095-399c-47a0-f135-cabe3cd63885",
        "colab": {
          "base_uri": "https://localhost:8080/",
          "height": 237
        }
      },
      "execution_count": null,
      "outputs": [
        {
          "output_type": "error",
          "ename": "NameError",
          "evalue": "name 'x_test' is not defined",
          "traceback": [
            "\u001b[0;31m---------------------------------------------------------------------------\u001b[0m",
            "\u001b[0;31mNameError\u001b[0m                                 Traceback (most recent call last)",
            "\u001b[0;32m<ipython-input-23-99162e82ae94>\u001b[0m in \u001b[0;36m<cell line: 1>\u001b[0;34m()\u001b[0m\n\u001b[0;32m----> 1\u001b[0;31m \u001b[0mloss\u001b[0m\u001b[0;34m,\u001b[0m \u001b[0maccuracy\u001b[0m \u001b[0;34m=\u001b[0m \u001b[0mmodel\u001b[0m\u001b[0;34m.\u001b[0m\u001b[0mevaluate\u001b[0m\u001b[0;34m(\u001b[0m\u001b[0mx_test\u001b[0m\u001b[0;34m,\u001b[0m \u001b[0my_test\u001b[0m\u001b[0;34m,\u001b[0m \u001b[0mverbose\u001b[0m\u001b[0;34m=\u001b[0m\u001b[0;36m1\u001b[0m\u001b[0;34m)\u001b[0m\u001b[0;34m\u001b[0m\u001b[0;34m\u001b[0m\u001b[0m\n\u001b[0m\u001b[1;32m      2\u001b[0m \u001b[0mloss_v\u001b[0m\u001b[0;34m,\u001b[0m \u001b[0maccuracy_v\u001b[0m \u001b[0;34m=\u001b[0m \u001b[0mmodel\u001b[0m\u001b[0;34m.\u001b[0m\u001b[0mevaluate\u001b[0m\u001b[0;34m(\u001b[0m\u001b[0mx_validate\u001b[0m\u001b[0;34m,\u001b[0m \u001b[0my_validate\u001b[0m\u001b[0;34m,\u001b[0m \u001b[0mverbose\u001b[0m\u001b[0;34m=\u001b[0m\u001b[0;36m1\u001b[0m\u001b[0;34m)\u001b[0m\u001b[0;34m\u001b[0m\u001b[0;34m\u001b[0m\u001b[0m\n\u001b[1;32m      3\u001b[0m \u001b[0mprint\u001b[0m\u001b[0;34m(\u001b[0m\u001b[0;34m\"Validation: accuracy = %f  ;  loss_v = %f\"\u001b[0m \u001b[0;34m%\u001b[0m \u001b[0;34m(\u001b[0m\u001b[0maccuracy_v\u001b[0m\u001b[0;34m,\u001b[0m \u001b[0mloss_v\u001b[0m\u001b[0;34m)\u001b[0m\u001b[0;34m)\u001b[0m\u001b[0;34m\u001b[0m\u001b[0;34m\u001b[0m\u001b[0m\n\u001b[1;32m      4\u001b[0m \u001b[0mprint\u001b[0m\u001b[0;34m(\u001b[0m\u001b[0;34m\"Test: accuracy = %f  ;  loss = %f\"\u001b[0m \u001b[0;34m%\u001b[0m \u001b[0;34m(\u001b[0m\u001b[0maccuracy\u001b[0m\u001b[0;34m,\u001b[0m \u001b[0mloss\u001b[0m\u001b[0;34m)\u001b[0m\u001b[0;34m)\u001b[0m\u001b[0;34m\u001b[0m\u001b[0;34m\u001b[0m\u001b[0m\n\u001b[1;32m      5\u001b[0m \u001b[0mmodel\u001b[0m\u001b[0;34m.\u001b[0m\u001b[0msave\u001b[0m\u001b[0;34m(\u001b[0m\u001b[0;34m\"model.h5\"\u001b[0m\u001b[0;34m)\u001b[0m\u001b[0;34m\u001b[0m\u001b[0;34m\u001b[0m\u001b[0m\n",
            "\u001b[0;31mNameError\u001b[0m: name 'x_test' is not defined"
          ]
        }
      ]
    },
    {
      "cell_type": "markdown",
      "source": [
        "# Trazado de matrices de confusión"
      ],
      "metadata": {
        "id": "N7S8BAJSBMq-"
      }
    },
    {
      "cell_type": "code",
      "source": [
        " def plot_confusion_matrix(cm, classes,\n",
        "                          normalize=False,\n",
        "                          title='Confusion matrix',\n",
        "                          cmap=plt.cm.Blues):\n",
        "    \"\"\"\n",
        "    This function prints and plots the confusion matrix.\n",
        "    Normalization can be applied by setting `normalize=True`.\n",
        "    \"\"\"\n",
        "    plt.imshow(cm, interpolation='nearest', cmap=cmap)\n",
        "    plt.title(title)\n",
        "    plt.colorbar()\n",
        "    tick_marks = np.arange(len(classes))\n",
        "    plt.xticks(tick_marks, classes, rotation=45)\n",
        "    plt.yticks(tick_marks, classes)\n",
        "\n",
        "    if normalize:\n",
        "        cm = cm.astype('float') / cm.sum(axis=1)[:, np.newaxis]\n",
        "\n",
        "    thresh = cm.max() / 2.\n",
        "    for i, j in itertools.product(range(cm.shape[0]), range(cm.shape[1])):\n",
        "        plt.text(j, i, cm[i, j],\n",
        "                 horizontalalignment=\"center\",\n",
        "                 color=\"white\" if cm[i, j] > thresh else \"black\")\n",
        "\n",
        "    plt.tight_layout()\n",
        "    plt.ylabel('True label')\n",
        "    plt.xlabel('Predicted label')\n",
        "\n",
        "# Predict the values from the validation dataset\n",
        "Y_pred = model.predict(x_validate)\n",
        "# Convert predictions classes to one hot vectors\n",
        "Y_pred_classes = np.argmax(Y_pred,axis = 1)\n",
        "# Convert validation observations to one hot vectors\n",
        "Y_true = np.argmax(y_validate,axis = 1)\n",
        "# compute the confusion matrix\n",
        "confusion_mtx = confusion_matrix(Y_true, Y_pred_classes)\n",
        "\n",
        "\n",
        "# plot the confusion matrix\n",
        "plot_confusion_matrix(confusion_mtx, classes = range(7))"
      ],
      "metadata": {
        "execution": {
          "iopub.status.busy": "2023-01-31T19:42:24.80198Z",
          "iopub.execute_input": "2023-01-31T19:42:24.802323Z",
          "iopub.status.idle": "2023-01-31T19:42:28.283788Z",
          "shell.execute_reply.started": "2023-01-31T19:42:24.802291Z",
          "shell.execute_reply": "2023-01-31T19:42:28.280951Z"
        },
        "trusted": true,
        "id": "xZBP00POBMq-",
        "outputId": "357b6f56-1046-4528-d940-d5e616909a21",
        "colab": {
          "base_uri": "https://localhost:8080/",
          "height": 237
        }
      },
      "execution_count": null,
      "outputs": [
        {
          "output_type": "error",
          "ename": "NameError",
          "evalue": "name 'x_validate' is not defined",
          "traceback": [
            "\u001b[0;31m---------------------------------------------------------------------------\u001b[0m",
            "\u001b[0;31mNameError\u001b[0m                                 Traceback (most recent call last)",
            "\u001b[0;32m<ipython-input-24-320ae7e0990b>\u001b[0m in \u001b[0;36m<cell line: 30>\u001b[0;34m()\u001b[0m\n\u001b[1;32m     28\u001b[0m \u001b[0;34m\u001b[0m\u001b[0m\n\u001b[1;32m     29\u001b[0m \u001b[0;31m# Predict the values from the validation dataset\u001b[0m\u001b[0;34m\u001b[0m\u001b[0;34m\u001b[0m\u001b[0m\n\u001b[0;32m---> 30\u001b[0;31m \u001b[0mY_pred\u001b[0m \u001b[0;34m=\u001b[0m \u001b[0mmodel\u001b[0m\u001b[0;34m.\u001b[0m\u001b[0mpredict\u001b[0m\u001b[0;34m(\u001b[0m\u001b[0mx_validate\u001b[0m\u001b[0;34m)\u001b[0m\u001b[0;34m\u001b[0m\u001b[0;34m\u001b[0m\u001b[0m\n\u001b[0m\u001b[1;32m     31\u001b[0m \u001b[0;31m# Convert predictions classes to one hot vectors\u001b[0m\u001b[0;34m\u001b[0m\u001b[0;34m\u001b[0m\u001b[0m\n\u001b[1;32m     32\u001b[0m \u001b[0mY_pred_classes\u001b[0m \u001b[0;34m=\u001b[0m \u001b[0mnp\u001b[0m\u001b[0;34m.\u001b[0m\u001b[0margmax\u001b[0m\u001b[0;34m(\u001b[0m\u001b[0mY_pred\u001b[0m\u001b[0;34m,\u001b[0m\u001b[0maxis\u001b[0m \u001b[0;34m=\u001b[0m \u001b[0;36m1\u001b[0m\u001b[0;34m)\u001b[0m\u001b[0;34m\u001b[0m\u001b[0;34m\u001b[0m\u001b[0m\n",
            "\u001b[0;31mNameError\u001b[0m: name 'x_validate' is not defined"
          ]
        }
      ]
    },
    {
      "cell_type": "code",
      "source": [
        "# Predict the values from the validation dataset\n",
        "Y_pred = model.predict(x_test)\n",
        "\n",
        "# Convert predictions classes to one hot vectors\n",
        "Y_pred_classes = np.argmax(Y_pred,axis = 1)\n",
        "\n",
        "# Convert validation observations to one hot vectors\n",
        "Y_true = np.argmax(y_test,axis = 1)\n",
        "\n",
        "# compute the confusion matrix\n",
        "confusion_mtx = confusion_matrix(Y_true, Y_pred_classes)\n",
        "\n",
        "\n",
        "\n",
        "# plot the confusion matrix\n",
        "plot_confusion_matrix(confusion_mtx, classes = range(7))"
      ],
      "metadata": {
        "execution": {
          "iopub.status.busy": "2023-01-31T19:42:28.285597Z",
          "iopub.execute_input": "2023-01-31T19:42:28.286751Z",
          "iopub.status.idle": "2023-01-31T19:42:34.764001Z",
          "shell.execute_reply.started": "2023-01-31T19:42:28.286701Z",
          "shell.execute_reply": "2023-01-31T19:42:34.763088Z"
        },
        "trusted": true,
        "id": "2UV_0IbnBMq-",
        "outputId": "06b26cb0-3767-4ba9-9a50-0e215c4f057f",
        "colab": {
          "base_uri": "https://localhost:8080/",
          "height": 237
        }
      },
      "execution_count": null,
      "outputs": [
        {
          "output_type": "error",
          "ename": "NameError",
          "evalue": "name 'x_test' is not defined",
          "traceback": [
            "\u001b[0;31m---------------------------------------------------------------------------\u001b[0m",
            "\u001b[0;31mNameError\u001b[0m                                 Traceback (most recent call last)",
            "\u001b[0;32m<ipython-input-25-524f769b2e55>\u001b[0m in \u001b[0;36m<cell line: 2>\u001b[0;34m()\u001b[0m\n\u001b[1;32m      1\u001b[0m \u001b[0;31m# Predict the values from the validation dataset\u001b[0m\u001b[0;34m\u001b[0m\u001b[0;34m\u001b[0m\u001b[0m\n\u001b[0;32m----> 2\u001b[0;31m \u001b[0mY_pred\u001b[0m \u001b[0;34m=\u001b[0m \u001b[0mmodel\u001b[0m\u001b[0;34m.\u001b[0m\u001b[0mpredict\u001b[0m\u001b[0;34m(\u001b[0m\u001b[0mx_test\u001b[0m\u001b[0;34m)\u001b[0m\u001b[0;34m\u001b[0m\u001b[0;34m\u001b[0m\u001b[0m\n\u001b[0m\u001b[1;32m      3\u001b[0m \u001b[0;34m\u001b[0m\u001b[0m\n\u001b[1;32m      4\u001b[0m \u001b[0;31m# Convert predictions classes to one hot vectors\u001b[0m\u001b[0;34m\u001b[0m\u001b[0;34m\u001b[0m\u001b[0m\n\u001b[1;32m      5\u001b[0m \u001b[0mY_pred_classes\u001b[0m \u001b[0;34m=\u001b[0m \u001b[0mnp\u001b[0m\u001b[0;34m.\u001b[0m\u001b[0margmax\u001b[0m\u001b[0;34m(\u001b[0m\u001b[0mY_pred\u001b[0m\u001b[0;34m,\u001b[0m\u001b[0maxis\u001b[0m \u001b[0;34m=\u001b[0m \u001b[0;36m1\u001b[0m\u001b[0;34m)\u001b[0m\u001b[0;34m\u001b[0m\u001b[0;34m\u001b[0m\u001b[0m\n",
            "\u001b[0;31mNameError\u001b[0m: name 'x_test' is not defined"
          ]
        }
      ]
    },
    {
      "cell_type": "markdown",
      "source": [
        "**<div class=\"alert alert-block alert-info\"> 📌 WORK IN PROGRESS !!.</div>**"
      ],
      "metadata": {
        "id": "eUUBube-BMq_"
      }
    }
  ]
}